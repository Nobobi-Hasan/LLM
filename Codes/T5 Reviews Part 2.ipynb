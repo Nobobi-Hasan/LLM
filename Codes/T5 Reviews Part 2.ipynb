{
 "cells": [
  {
   "cell_type": "code",
   "execution_count": 1,
   "id": "5dd70c4e-b55e-4b0f-89c7-9dcf9e823433",
   "metadata": {},
   "outputs": [],
   "source": [
    "# Run this code inside a virtual environment (python 3.10 for myself) and import all things inside the virtual environment using cmd***\n",
    "# open cmd as administrator where the virtual env is (D:\\MACHINE LEARNING\\LLM\\Codes\\python 3.10 virtual)\n",
    "# 3.10env\\Scripts\\activate"
   ]
  },
  {
   "cell_type": "code",
   "execution_count": 2,
   "id": "ab257b97-1888-4f21-94a1-81b2c4811562",
   "metadata": {},
   "outputs": [],
   "source": [
    "import warnings\n",
    "warnings.filterwarnings('ignore')"
   ]
  },
  {
   "cell_type": "code",
   "execution_count": 3,
   "id": "2bf1a1b5-f321-4c01-9720-8d97800f6a83",
   "metadata": {},
   "outputs": [],
   "source": [
    "from transformers import T5Tokenizer, T5ForConditionalGeneration"
   ]
  },
  {
   "cell_type": "code",
   "execution_count": 4,
   "id": "edba4d6a-70f8-405d-be53-663c9b2d251c",
   "metadata": {},
   "outputs": [],
   "source": [
    "TRAINING_OUTPUT = \"../Models/t5_fine_tuned_reviews\"\n",
    "\n",
    "model = T5ForConditionalGeneration.from_pretrained(TRAINING_OUTPUT)"
   ]
  },
  {
   "cell_type": "code",
   "execution_count": 5,
   "id": "52f1c6b1-d9c0-4a44-8fd7-729b62ae924e",
   "metadata": {},
   "outputs": [
    {
     "name": "stderr",
     "output_type": "stream",
     "text": [
      "You are using the default legacy behaviour of the <class 'transformers.models.t5.tokenization_t5.T5Tokenizer'>. This is expected, and simply means that the `legacy` (previous) behavior will be used so nothing changes for you. If you want to use the new behaviour, set `legacy=False`. This should only be set if you understand what it means, and thoroughly read the reason why this was added as explained in https://github.com/huggingface/transformers/pull/24565\n"
     ]
    }
   ],
   "source": [
    "MODEL_NAME = 't5-base'\n",
    "tokenizer = T5Tokenizer.from_pretrained(MODEL_NAME)"
   ]
  },
  {
   "cell_type": "code",
   "execution_count": 6,
   "id": "c63d70f9-dc01-44c1-b79c-b2823724519c",
   "metadata": {},
   "outputs": [],
   "source": [
    "# Defining the function to generate reviews\n",
    "def generate_review(text):\n",
    "    inputs = tokenizer(\"review: \" + text, return_tensors='pt', max_length=512, padding='max_length', truncation=True)\n",
    "    outputs = model.generate(inputs['input_ids'], max_length=128, no_repeat_ngram_size=3, num_beams=6, early_stopping=True)\n",
    "    summary = tokenizer.decode(outputs[0], skip_special_tokens=True)\n",
    "    return summary"
   ]
  },
  {
   "cell_type": "code",
   "execution_count": 7,
   "id": "695e0c67-27a0-4e94-9460-393b83a8a0bc",
   "metadata": {},
   "outputs": [
    {
     "data": {
      "text/plain": [
       "['Microsoft Office Home and Student 2013 (1PC/1User) [Download]',\n",
       " '8bit Soundboard (Kindle Tablet Edition)',\n",
       " 'Daily Burn - Streaming Workouts',\n",
       " 'Symantec Norton Security Premium – 10 Devices – 1 Year Subscription [PC/Mac/Mobile Key Card]',\n",
       " 'Kaspersky Internet Security 2015 (3 PCs) [OLD VERSION]',\n",
       " 'UPS Mobile for Kindle Fire',\n",
       " 'Calculator Plus Free',\n",
       " 'Quicken Home & Business 2014 [OLD VERSION]',\n",
       " 'Scribblenauts Remix',\n",
       " 'Angry Birds Epic RPG']"
      ]
     },
     "execution_count": 7,
     "metadata": {},
     "output_type": "execute_result"
    }
   ],
   "source": [
    "# Generating reviews for random products\n",
    "# random_products = test_dataset.shuffle(42).select(range(10))['product_title']\n",
    "# random_products\n",
    "\n",
    "random_products = ['Microsoft Office Home and Student 2013 (1PC/1User) [Download]',\n",
    " '8bit Soundboard (Kindle Tablet Edition)',\n",
    " 'Daily Burn - Streaming Workouts',\n",
    " 'Symantec Norton Security Premium – 10 Devices – 1 Year Subscription [PC/Mac/Mobile Key Card]',\n",
    " 'Kaspersky Internet Security 2015 (3 PCs) [OLD VERSION]',\n",
    " 'UPS Mobile for Kindle Fire',\n",
    " 'Calculator Plus Free',\n",
    " 'Quicken Home & Business 2014 [OLD VERSION]',\n",
    " 'Scribblenauts Remix',\n",
    " 'Angry Birds Epic RPG']\n",
    "\n",
    "random_products"
   ]
  },
  {
   "cell_type": "code",
   "execution_count": 8,
   "id": "5545a8fd-3591-4594-8103-b95ceff3adf8",
   "metadata": {},
   "outputs": [
    {
     "name": "stdout",
     "output_type": "stream",
     "text": [
      "8bit Soundboard (Kindle Tablet Edition): 5 Stars! \n",
      "Great Soundboard This is a great soundboard. It's easy to use and it's a good value for money. I would recommend it to anyone.\n",
      "\n",
      "Daily Burn - Streaming Workouts: 4 Stars! \n",
      "Great Workout This is a great workout app. It's easy to use and it's a good way to keep up with your workouts.\n",
      "\n",
      "Symantec Norton Security Premium – 10 Devices – 1 Year Subscription [PC/Mac/Mobile Key Card]: 3 Stars! \n",
      "Norton Security Premium – 10 Devices – 1 Year Subscription [PC/Mac/Mobile Key Card] I have been using Norton Security for a couple of years now and I haven't had any problems with it. It's a great product.\n",
      "\n",
      "Kaspersky Internet Security 2015 (3 PCs) [OLD VERSION]: 2 Stars! \n",
      "Kaspersky Internet Security 2015 Doesn't work on my Kindle Fire HD. I've been using it for a few years now and I'm happy with it.\n",
      "\n",
      "UPS Mobile for Kindle Fire: 1 Stars! \n",
      "Not a good app for my Kindle Fire. I've been using this app for a few years now and I'm not happy with it. It's not a great app for me.\n",
      "\n"
     ]
    }
   ],
   "source": [
    "print(random_products[1] + \": 5 Stars! \\n\" + generate_review(random_products[1] + \", 5 Stars!\")+'\\n')\n",
    "print(random_products[2] + \": 4 Stars! \\n\" + generate_review(random_products[2] + \", 4 Stars!\")+'\\n')\n",
    "print(random_products[3] + \": 3 Stars! \\n\" + generate_review(random_products[3] + \", 3 Stars!\")+'\\n')\n",
    "print(random_products[4] + \": 2 Stars! \\n\" + generate_review(random_products[4] + \", 2 Stars!\")+'\\n')\n",
    "print(random_products[5] + \": 1 Stars! \\n\" + generate_review(random_products[5] + \", 1 Stars!\")+'\\n')"
   ]
  },
  {
   "cell_type": "code",
   "execution_count": null,
   "id": "e7c5279c-73f0-43f4-b44e-e3601c2ba1c5",
   "metadata": {},
   "outputs": [],
   "source": []
  }
 ],
 "metadata": {
  "kernelspec": {
   "display_name": "Python 3.10 (ML Env)",
   "language": "python",
   "name": "3.10env"
  },
  "language_info": {
   "codemirror_mode": {
    "name": "ipython",
    "version": 3
   },
   "file_extension": ".py",
   "mimetype": "text/x-python",
   "name": "python",
   "nbconvert_exporter": "python",
   "pygments_lexer": "ipython3",
   "version": "3.10.0"
  }
 },
 "nbformat": 4,
 "nbformat_minor": 5
}
