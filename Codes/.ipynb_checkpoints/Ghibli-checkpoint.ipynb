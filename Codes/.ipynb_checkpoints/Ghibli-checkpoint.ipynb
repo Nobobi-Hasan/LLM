{
 "cells": [
  {
   "cell_type": "code",
   "execution_count": 1,
   "id": "87196634-660c-4786-b84c-559dc05bd487",
   "metadata": {},
   "outputs": [],
   "source": [
    "# Run this code inside a virtual environment (python 3.10 for myself) and import all things inside the virtual environment using cmd***\n",
    "# open cmd as administrator where the virtual env is (D:\\MACHINE LEARNING\\Virtual_Env\\python 3.10 virtual)\n",
    "# 3.10env\\Scripts\\activate"
   ]
  },
  {
   "cell_type": "code",
   "execution_count": 2,
   "id": "84d597f2-5b21-4a82-888d-de34aa7cf561",
   "metadata": {},
   "outputs": [],
   "source": [
    "import warnings\n",
    "warnings.filterwarnings('ignore')"
   ]
  },
  {
   "cell_type": "code",
   "execution_count": 3,
   "id": "9c2b6782-f2cb-4a4b-86af-13dced84210d",
   "metadata": {
    "scrolled": true
   },
   "outputs": [],
   "source": [
    "# pip install diffusers transformers torch torchvision accelerate controlnet_aux"
   ]
  },
  {
   "cell_type": "code",
   "execution_count": 4,
   "id": "c6411874-2cdd-46cb-8a41-d0907f622b40",
   "metadata": {},
   "outputs": [],
   "source": [
    "# import torch\n",
    "# from diffusers import StableDiffusionPipeline, ControlNetModel, UniPCMultistepScheduler\n",
    "# from controlnet_aux import CannyDetector\n",
    "# from PIL import Image\n",
    "# import requests\n",
    "# from io import BytesIO\n",
    "\n",
    "import torch\n",
    "from diffusers import StableDiffusionImg2ImgPipeline\n",
    "from PIL import Image\n",
    "import requests\n",
    "from io import BytesIO"
   ]
  },
  {
   "cell_type": "code",
   "execution_count": 5,
   "id": "e16bddc4-7c5a-4caf-ac18-a25cd9e5efc2",
   "metadata": {},
   "outputs": [],
   "source": [
    "# Load the input image (Replace with local path if needed)\n",
    "input_image_url = \"https://scontent.fjsr8-1.fna.fbcdn.net/v/t39.30808-6/487483474_4049813188616494_8361736211159983165_n.jpg?_nc_cat=106&ccb=1-7&_nc_sid=6ee11a&_nc_ohc=28GT4qMz07kQ7kNvgHhHR9q&_nc_oc=AdlmHNUuBxyUykDsi2KkhqyoiZ8cPcokrbsCLNVK7vJr3yx6mONow0Sef1XLy0AnCV0&_nc_zt=23&_nc_ht=scontent.fjsr8-1.fna&_nc_gid=DWDcQhymG8M66YncL4qa_A&oh=00_AYFY7PNiEpyvBaFmmgmMSl7sqNBGbJyPPAqacrEd-Sspkg&oe=67F2FD80\"  # Replace with your image\n",
    "response = requests.get(input_image_url)\n",
    "input_image = Image.open(BytesIO(response.content)).convert(\"RGB\").resize((512, 512))\n"
   ]
  },
  {
   "cell_type": "code",
   "execution_count": 6,
   "id": "1aa5857c-608e-4660-acee-e8199df0032f",
   "metadata": {},
   "outputs": [],
   "source": [
    "# # Load the Canny edge detector (to guide the style transfer)\n",
    "# canny = CannyDetector()\n",
    "# edge_image = canny(input_image)"
   ]
  },
  {
   "cell_type": "code",
   "execution_count": 7,
   "id": "1b39e73c-a051-4fcc-86cc-76d574aabeca",
   "metadata": {},
   "outputs": [],
   "source": [
    "# pipe = StableDiffusionImg2ImgPipeline.from_pretrained(\n",
    "#     \"Cagliostro/Studio-Ghibli-Diffusion\",  # Custom model for Ghibli transformations\n",
    "#     torch_dtype=torch.float32\n",
    "# )"
   ]
  },
  {
   "cell_type": "code",
   "execution_count": 8,
   "id": "3fe66717-f1d7-4501-a6fa-6ce74b0b8ea2",
   "metadata": {},
   "outputs": [
    {
     "data": {
      "application/vnd.jupyter.widget-view+json": {
       "model_id": "38d9a4a6058940d3b5f8dc275cfd75b0",
       "version_major": 2,
       "version_minor": 0
      },
      "text/plain": [
       "model_index.json:   0%|          | 0.00/609 [00:00<?, ?B/s]"
      ]
     },
     "metadata": {},
     "output_type": "display_data"
    },
    {
     "data": {
      "application/vnd.jupyter.widget-view+json": {
       "model_id": "2a5cf1adfe31496d919bdb76c89a7d1a",
       "version_major": 2,
       "version_minor": 0
      },
      "text/plain": [
       "Fetching 12 files:   0%|          | 0/12 [00:00<?, ?it/s]"
      ]
     },
     "metadata": {},
     "output_type": "display_data"
    },
    {
     "data": {
      "application/vnd.jupyter.widget-view+json": {
       "model_id": "241ace8b40bd4ea3a922ab6df0824f85",
       "version_major": 2,
       "version_minor": 0
      },
      "text/plain": [
       "model.safetensors:   0%|          | 0.00/492M [00:00<?, ?B/s]"
      ]
     },
     "metadata": {},
     "output_type": "display_data"
    },
    {
     "data": {
      "application/vnd.jupyter.widget-view+json": {
       "model_id": "6a591fbe09684a2fb32eeb05cf975fbf",
       "version_major": 2,
       "version_minor": 0
      },
      "text/plain": [
       "merges.txt:   0%|          | 0.00/525k [00:00<?, ?B/s]"
      ]
     },
     "metadata": {},
     "output_type": "display_data"
    },
    {
     "data": {
      "application/vnd.jupyter.widget-view+json": {
       "model_id": "d0c03c634e7548d7b247fa28dafc9884",
       "version_major": 2,
       "version_minor": 0
      },
      "text/plain": [
       "scheduler_config.json:   0%|          | 0.00/548 [00:00<?, ?B/s]"
      ]
     },
     "metadata": {},
     "output_type": "display_data"
    },
    {
     "data": {
      "application/vnd.jupyter.widget-view+json": {
       "model_id": "0aa8a059690b44afbb4ebe014314ba23",
       "version_major": 2,
       "version_minor": 0
      },
      "text/plain": [
       "config.json:   0%|          | 0.00/612 [00:00<?, ?B/s]"
      ]
     },
     "metadata": {},
     "output_type": "display_data"
    },
    {
     "data": {
      "application/vnd.jupyter.widget-view+json": {
       "model_id": "8d6bf36f15be4c49bd3bafaab12a257f",
       "version_major": 2,
       "version_minor": 0
      },
      "text/plain": [
       "special_tokens_map.json:   0%|          | 0.00/472 [00:00<?, ?B/s]"
      ]
     },
     "metadata": {},
     "output_type": "display_data"
    },
    {
     "data": {
      "application/vnd.jupyter.widget-view+json": {
       "model_id": "6187027d61cd468d9ccf0f53b3165913",
       "version_major": 2,
       "version_minor": 0
      },
      "text/plain": [
       "vocab.json:   0%|          | 0.00/1.06M [00:00<?, ?B/s]"
      ]
     },
     "metadata": {},
     "output_type": "display_data"
    },
    {
     "data": {
      "application/vnd.jupyter.widget-view+json": {
       "model_id": "65753f03b58548efbff5f29b78d3b76e",
       "version_major": 2,
       "version_minor": 0
      },
      "text/plain": [
       "tokenizer_config.json:   0%|          | 0.00/737 [00:00<?, ?B/s]"
      ]
     },
     "metadata": {},
     "output_type": "display_data"
    },
    {
     "data": {
      "application/vnd.jupyter.widget-view+json": {
       "model_id": "3aa5fc3124e54ecb9c12fb28f687fbbc",
       "version_major": 2,
       "version_minor": 0
      },
      "text/plain": [
       "diffusion_pytorch_model.safetensors:   0%|          | 0.00/3.44G [00:00<?, ?B/s]"
      ]
     },
     "metadata": {},
     "output_type": "display_data"
    },
    {
     "data": {
      "application/vnd.jupyter.widget-view+json": {
       "model_id": "c9fc86ef8c534ca0bf2c188be2359125",
       "version_major": 2,
       "version_minor": 0
      },
      "text/plain": [
       "config.json:   0%|          | 0.00/1.55k [00:00<?, ?B/s]"
      ]
     },
     "metadata": {},
     "output_type": "display_data"
    },
    {
     "data": {
      "application/vnd.jupyter.widget-view+json": {
       "model_id": "4e9df9d476a542fa93a9b84ae943a540",
       "version_major": 2,
       "version_minor": 0
      },
      "text/plain": [
       "config.json:   0%|          | 0.00/577 [00:00<?, ?B/s]"
      ]
     },
     "metadata": {},
     "output_type": "display_data"
    },
    {
     "data": {
      "application/vnd.jupyter.widget-view+json": {
       "model_id": "32ac7b9a16e64ef2ad7ca1ec56fde759",
       "version_major": 2,
       "version_minor": 0
      },
      "text/plain": [
       "diffusion_pytorch_model.safetensors:   0%|          | 0.00/335M [00:00<?, ?B/s]"
      ]
     },
     "metadata": {},
     "output_type": "display_data"
    },
    {
     "data": {
      "application/vnd.jupyter.widget-view+json": {
       "model_id": "ddbb7570948649a5a154c9b6574c3e0f",
       "version_major": 2,
       "version_minor": 0
      },
      "text/plain": [
       "Loading pipeline components...:   0%|          | 0/5 [00:00<?, ?it/s]"
      ]
     },
     "metadata": {},
     "output_type": "display_data"
    }
   ],
   "source": [
    "# Load the Stable Diffusion model with IP-Adapter (Identity Preservation)\n",
    "pipe = StableDiffusionImg2ImgPipeline.from_pretrained(\n",
    "    \"SG161222/Realistic_Vision_V5.1_noVAE\",  # Use a model that supports IP-Adapter\n",
    "    torch_dtype=torch.float32\n",
    ")"
   ]
  },
  {
   "cell_type": "code",
   "execution_count": 9,
   "id": "0a1fa3c5-924f-4602-a7f5-45218240da37",
   "metadata": {},
   "outputs": [],
   "source": [
    "# # Load the Stable Diffusion img2img pipeline\n",
    "# pipe = StableDiffusionImg2ImgPipeline.from_pretrained(\n",
    "#     \"runwayml/stable-diffusion-v1-5\",\n",
    "#     torch_dtype=torch.float32  # Use float32 for CPU\n",
    "# )"
   ]
  },
  {
   "cell_type": "code",
   "execution_count": 10,
   "id": "125cc89a-9754-4f9e-a866-b4f6c33c57bc",
   "metadata": {},
   "outputs": [],
   "source": [
    "# # Load the Ghibli-style ControlNet model\n",
    "# controlnet = ControlNetModel.from_pretrained(\n",
    "#     \"lllyasviel/control_v11p_sd15_canny\",\n",
    "#     torch_dtype=torch.float32\n",
    "# )"
   ]
  },
  {
   "cell_type": "code",
   "execution_count": 11,
   "id": "969d1eb8-4ec8-44fa-999f-540c755034bb",
   "metadata": {
    "scrolled": true
   },
   "outputs": [],
   "source": [
    "# # Load the Stable Diffusion pipeline\n",
    "# pipe = StableDiffusionPipeline.from_pretrained(\n",
    "#     \"runwayml/stable-diffusion-v1-5\",\n",
    "#     controlnet=controlnet,\n",
    "#     torch_dtype=torch.float32\n",
    "# )"
   ]
  },
  {
   "cell_type": "code",
   "execution_count": 12,
   "id": "474f395f-d22f-4ab1-978b-b4e79dd24a26",
   "metadata": {
    "scrolled": true
   },
   "outputs": [
    {
     "data": {
      "text/plain": [
       "StableDiffusionImg2ImgPipeline {\n",
       "  \"_class_name\": \"StableDiffusionImg2ImgPipeline\",\n",
       "  \"_diffusers_version\": \"0.32.2\",\n",
       "  \"_name_or_path\": \"SG161222/Realistic_Vision_V5.1_noVAE\",\n",
       "  \"feature_extractor\": [\n",
       "    null,\n",
       "    null\n",
       "  ],\n",
       "  \"image_encoder\": [\n",
       "    null,\n",
       "    null\n",
       "  ],\n",
       "  \"requires_safety_checker\": null,\n",
       "  \"safety_checker\": [\n",
       "    null,\n",
       "    null\n",
       "  ],\n",
       "  \"scheduler\": [\n",
       "    \"diffusers\",\n",
       "    \"DEISMultistepScheduler\"\n",
       "  ],\n",
       "  \"text_encoder\": [\n",
       "    \"transformers\",\n",
       "    \"CLIPTextModel\"\n",
       "  ],\n",
       "  \"tokenizer\": [\n",
       "    \"transformers\",\n",
       "    \"CLIPTokenizer\"\n",
       "  ],\n",
       "  \"unet\": [\n",
       "    \"diffusers\",\n",
       "    \"UNet2DConditionModel\"\n",
       "  ],\n",
       "  \"vae\": [\n",
       "    \"diffusers\",\n",
       "    \"AutoencoderKL\"\n",
       "  ]\n",
       "}"
      ]
     },
     "execution_count": 12,
     "metadata": {},
     "output_type": "execute_result"
    }
   ],
   "source": [
    "# pipe.scheduler = UniPCMultistepScheduler.from_config(pipe.scheduler.config)\n",
    "# pipe.enable_xformers_memory_efficient_attention()\n",
    "pipe.to(\"cpu\")  # Move model to GPU"
   ]
  },
  {
   "cell_type": "code",
   "execution_count": 13,
   "id": "468db676-b824-45da-8fa0-049234c8feb1",
   "metadata": {},
   "outputs": [
    {
     "data": {
      "application/vnd.jupyter.widget-view+json": {
       "model_id": "6dc3dbe6cfa846c796583c343354e17b",
       "version_major": 2,
       "version_minor": 0
      },
      "text/plain": [
       "  0%|          | 0/22 [00:00<?, ?it/s]"
      ]
     },
     "metadata": {},
     "output_type": "display_data"
    }
   ],
   "source": [
    "# # Generate Ghibli-style image\n",
    "# prompt = \"A beautiful landscape in Studio Ghibli anime style, high quality, vibrant colors\"\n",
    "# result = pipe(prompt=prompt, image=edge_image, guidance_scale=8.5, num_inference_steps=50)\n",
    "\n",
    "# Generate Ghibli-style image while keeping facial features\n",
    "prompt = \"Studio Ghibli anime version of this person, high quality, beautiful, expressive, vibrant colors, soft shading\"\n",
    "# result = pipe(prompt=prompt, image=input_image, strength=0.75, guidance_scale=7.5\n",
    "result = pipe(prompt=prompt, image=input_image, strength=0.45, guidance_scale=7.5)"
   ]
  },
  {
   "cell_type": "code",
   "execution_count": 14,
   "id": "b2ca4fc5-105f-4e37-9b00-e85a49d85299",
   "metadata": {},
   "outputs": [],
   "source": [
    "# Save and display result\n",
    "result.images[0].save(\"../DataSets/ghibli_output.png\")\n",
    "result.images[0].show()"
   ]
  },
  {
   "cell_type": "code",
   "execution_count": 15,
   "id": "6a4d2151-fc58-487e-98f1-1ee038737410",
   "metadata": {},
   "outputs": [
    {
     "name": "stdout",
     "output_type": "stream",
     "text": [
      "Python 3.12.7\n"
     ]
    }
   ],
   "source": [
    "!python --version"
   ]
  },
  {
   "cell_type": "code",
   "execution_count": 16,
   "id": "1ef7ca9c-4aaa-4d41-ad4d-8ff406e34bb3",
   "metadata": {},
   "outputs": [
    {
     "name": "stdout",
     "output_type": "stream",
     "text": [
      "3.10.0 (tags/v3.10.0:b494f59, Oct  4 2021, 19:00:18) [MSC v.1929 64 bit (AMD64)]\n"
     ]
    }
   ],
   "source": [
    "import sys\n",
    "print(sys.version)"
   ]
  },
  {
   "cell_type": "code",
   "execution_count": null,
   "id": "9e2d03e2-f81a-4d0c-8f8a-1a363f8ebfc8",
   "metadata": {},
   "outputs": [],
   "source": []
  }
 ],
 "metadata": {
  "kernelspec": {
   "display_name": "Python 3.10 (ML Env)",
   "language": "python",
   "name": "3.10env"
  },
  "language_info": {
   "codemirror_mode": {
    "name": "ipython",
    "version": 3
   },
   "file_extension": ".py",
   "mimetype": "text/x-python",
   "name": "python",
   "nbconvert_exporter": "python",
   "pygments_lexer": "ipython3",
   "version": "3.10.0"
  }
 },
 "nbformat": 4,
 "nbformat_minor": 5
}
