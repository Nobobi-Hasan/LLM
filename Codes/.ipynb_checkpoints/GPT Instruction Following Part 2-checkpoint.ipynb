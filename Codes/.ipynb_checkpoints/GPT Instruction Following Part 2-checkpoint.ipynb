{
 "cells": [
  {
   "cell_type": "code",
   "execution_count": 1,
   "id": "ba0d840a-5a6f-43b8-b38e-5ecedefb3adf",
   "metadata": {},
   "outputs": [],
   "source": [
    "# Run this code inside a virtual environment (python 3.10 for myself) and import all things inside the virtual environment using cmd***\n",
    "# open cmd as administrator where the virtual env is (D:\\MACHINE LEARNING\\LLM\\Codes\\python 3.10 virtual)\n",
    "# 3.10env\\Scripts\\activate"
   ]
  },
  {
   "cell_type": "code",
   "execution_count": 2,
   "id": "cf827660-060a-41d4-88f2-10d317e10a1a",
   "metadata": {},
   "outputs": [],
   "source": [
    "import warnings\n",
    "warnings.filterwarnings('ignore')"
   ]
  },
  {
   "cell_type": "code",
   "execution_count": 3,
   "id": "aca39b73-d0c3-49a6-a969-291d70a5e528",
   "metadata": {},
   "outputs": [],
   "source": [
    "from transformers import AutoModelForCausalLM, AutoTokenizer"
   ]
  },
  {
   "cell_type": "code",
   "execution_count": 4,
   "id": "434d2dad-fb57-4ebd-ba41-271a0920c06a",
   "metadata": {},
   "outputs": [],
   "source": [
    "model = AutoModelForCausalLM.from_pretrained(\"../Models/diablo_gpt\") # my saved model"
   ]
  },
  {
   "cell_type": "code",
   "execution_count": 5,
   "id": "a38fc757-f32b-425d-9f38-2768a33b5af6",
   "metadata": {},
   "outputs": [],
   "source": [
    "MODEL_NAME = \"microsoft/DialoGPT-medium\"\n",
    "\n",
    "tokenizer = AutoTokenizer.from_pretrained(MODEL_NAME)\n",
    "tokenizer.pad_token = tokenizer.eos_token # Adding pad token because DialoGPT doesn't have this in default"
   ]
  },
  {
   "cell_type": "code",
   "execution_count": 6,
   "id": "50b1d75c-6bee-4d30-8b85-59965a548b64",
   "metadata": {},
   "outputs": [],
   "source": [
    "def generate_text(prompt):\n",
    "    inputs = tokenizer(prompt, return_tensors='pt', padding=True)\n",
    "    # outputs = model.generate(inputs, max_length=64, pad_token_id=tokenizer.eos_token_id)\n",
    "    outputs = model.generate(\n",
    "        input_ids=inputs[\"input_ids\"],\n",
    "        attention_mask=inputs[\"attention_mask\"],\n",
    "        max_length=64,\n",
    "        pad_token_id=tokenizer.eos_token_id\n",
    "    )\n",
    "    generated = tokenizer.decode(outputs[0], skip_special_tokens=True)\n",
    "\n",
    "    return generated[:generated.rfind('.')+1]\n",
    "    # return generated[generated.find('?')+3 : generated.find('\\n')]"
   ]
  },
  {
   "cell_type": "code",
   "execution_count": 7,
   "id": "e6cc2945-7ce4-441b-9921-1e0c743a05cf",
   "metadata": {},
   "outputs": [
    {
     "data": {
      "text/plain": [
       "\"What's the best way to cook chiken breast?  The best way to cook chiken breast is to use a slow cooker or slow cooker. You can also use a pressure cooker or a pressure cooker oven. Additionally, you can use a pressure cooker or a pressure cooker oven to cook chiken breast.\""
      ]
     },
     "execution_count": 7,
     "metadata": {},
     "output_type": "execute_result"
    }
   ],
   "source": [
    "generate_text(\"What's the best way to cook chiken breast?\")"
   ]
  },
  {
   "cell_type": "code",
   "execution_count": 8,
   "id": "6f526571-4ffa-4e39-a6e4-c4d4e50771a7",
   "metadata": {},
   "outputs": [
    {
     "data": {
      "text/plain": [
       "'Should I invest stocks?  Yes, you should invest stocks. Investing in stocks can be a great way to diversify your portfolio and make money. Investing in stocks can also help you make money by investing in stocks. Investing in stocks can also help you make money by investing in stocks.'"
      ]
     },
     "execution_count": 8,
     "metadata": {},
     "output_type": "execute_result"
    }
   ],
   "source": [
    "generate_text(\"Should I invest stocks?\")"
   ]
  },
  {
   "cell_type": "code",
   "execution_count": 9,
   "id": "bcd3a76b-862f-4895-8847-0ad4e5152bbf",
   "metadata": {},
   "outputs": [
    {
     "data": {
      "text/plain": [
       "'I need a place to go for this summer vacation, what locations would you recommend for a summer vacation in the US?  I would recommend places to visit in the US: 1. The Grand Canyon 2. The Grand Canyon 3. The Grand Canyon 4. The Grand Canyon 5. The Grand Canyon 6.'"
      ]
     },
     "execution_count": 9,
     "metadata": {},
     "output_type": "execute_result"
    }
   ],
   "source": [
    "generate_text(\"I need a place to go for this summer vacation, what locations would you recommend\")"
   ]
  },
  {
   "cell_type": "code",
   "execution_count": 10,
   "id": "5df0cc75-d0ff-4919-bda9-c47de46fdf3b",
   "metadata": {},
   "outputs": [
    {
     "data": {
      "text/plain": [
       "\"What's the fastest route from NY City to Boston?  The fastest route from NY City to Boston is the New York City Subway. The New York City Subway is a highly efficient and efficient system that is designed to provide efficient service and quality service.\""
      ]
     },
     "execution_count": 10,
     "metadata": {},
     "output_type": "execute_result"
    }
   ],
   "source": [
    "generate_text(\"What's the fastest route from NY City to Boston?\")"
   ]
  },
  {
   "cell_type": "code",
   "execution_count": 11,
   "id": "7cd93316-8bc6-422b-b3f1-46c5a45b829c",
   "metadata": {},
   "outputs": [
    {
     "data": {
      "text/plain": [
       "\"What's the fastest route from Sylhet to Dhaka?  The fastest route from Sylhet to Dhaka is to take the train from Dhaka to Sylhet, which is a short distance of about 1.5 km. The train takes about 1.5 km to reach Dhaka, which is about 1.\""
      ]
     },
     "execution_count": 11,
     "metadata": {},
     "output_type": "execute_result"
    }
   ],
   "source": [
    "generate_text(\"What's the fastest route from Sylhet to Dhaka?\")"
   ]
  },
  {
   "cell_type": "code",
   "execution_count": null,
   "id": "17ac0263-177f-4692-91b9-3f7098d54b5c",
   "metadata": {},
   "outputs": [],
   "source": []
  }
 ],
 "metadata": {
  "kernelspec": {
   "display_name": "Python 3.10 (ML Env)",
   "language": "python",
   "name": "3.10env"
  },
  "language_info": {
   "codemirror_mode": {
    "name": "ipython",
    "version": 3
   },
   "file_extension": ".py",
   "mimetype": "text/x-python",
   "name": "python",
   "nbconvert_exporter": "python",
   "pygments_lexer": "ipython3",
   "version": "3.10.0"
  }
 },
 "nbformat": 4,
 "nbformat_minor": 5
}
