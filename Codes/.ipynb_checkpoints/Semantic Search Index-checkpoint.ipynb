{
 "cells": [
  {
   "cell_type": "code",
   "execution_count": 1,
   "id": "54081fd6-5173-481b-a5f2-d34f43533315",
   "metadata": {},
   "outputs": [],
   "source": [
    "# Run this code inside a virtual environment (python 3.10 for myself) and import all things inside the virtual environment using cmd***\n",
    "# open cmd as administrator where the virtual env is (D:\\MACHINE LEARNING\\LLM\\Codes\\python 3.10 virtual)\n",
    "# myenv\\Scripts\\activate"
   ]
  },
  {
   "cell_type": "code",
   "execution_count": 2,
   "id": "94e5749e-82a4-4dcd-9c36-680f8e1d2861",
   "metadata": {},
   "outputs": [],
   "source": [
    "import warnings\n",
    "warnings.filterwarnings('ignore')\n",
    "# !pip install datasets\n",
    "# !pip install sentence_transformers\n",
    "# !pip install tensorflow\n",
    "# !pip install keras\n",
    "# !pip install tf-keras\n",
    "# !pip install timm==1.0.15\n",
    "# !pip install torch==1.12.0"
   ]
  },
  {
   "cell_type": "code",
   "execution_count": 3,
   "id": "e5388af3-5d96-4001-9b21-6b46da84fb6f",
   "metadata": {},
   "outputs": [],
   "source": [
    "# !pip show datasets"
   ]
  },
  {
   "cell_type": "code",
   "execution_count": 4,
   "id": "a2db683b-0e6a-454c-a3d2-38681843c19e",
   "metadata": {},
   "outputs": [],
   "source": [
    "# !pip show sentence_transformers"
   ]
  },
  {
   "cell_type": "code",
   "execution_count": 5,
   "id": "28f5dede-42a2-427b-81a4-b299b1233eea",
   "metadata": {},
   "outputs": [
    {
     "name": "stdout",
     "output_type": "stream",
     "text": [
      "D:\\MACHINE LEARNING\\Virtual_Env\\python 3.10 virtual\\3.10env\\Scripts\\python.exe\n"
     ]
    }
   ],
   "source": [
    "import sys\n",
    "print(sys.executable)"
   ]
  },
  {
   "cell_type": "code",
   "execution_count": 6,
   "id": "d07a7c29-8f62-4853-8e7d-ff6a7a96cd7c",
   "metadata": {},
   "outputs": [
    {
     "name": "stdout",
     "output_type": "stream",
     "text": [
      "3.10.0 (tags/v3.10.0:b494f59, Oct  4 2021, 19:00:18) [MSC v.1929 64 bit (AMD64)]\n"
     ]
    }
   ],
   "source": [
    "import sys\n",
    "print(sys.version)"
   ]
  },
  {
   "cell_type": "code",
   "execution_count": 7,
   "id": "0d989ba7-d3ec-44e7-b26d-25e46b6190e0",
   "metadata": {},
   "outputs": [
    {
     "name": "stdout",
     "output_type": "stream",
     "text": [
      "WARNING:tensorflow:From D:\\MACHINE LEARNING\\Virtual_Env\\python 3.10 virtual\\3.10env\\lib\\site-packages\\tf_keras\\src\\losses.py:2976: The name tf.losses.sparse_softmax_cross_entropy is deprecated. Please use tf.compat.v1.losses.sparse_softmax_cross_entropy instead.\n",
      "\n",
      "4.0.1\n"
     ]
    }
   ],
   "source": [
    "import sentence_transformers as st\n",
    "print(st.__version__)"
   ]
  },
  {
   "cell_type": "code",
   "execution_count": 8,
   "id": "9b26fdc8-0dda-43db-a775-b4b2b8a2a382",
   "metadata": {},
   "outputs": [],
   "source": [
    "from datasets import load_dataset\n",
    "import pandas as pd\n",
    "import torch\n",
    "from sentence_transformers import SentenceTransformer, util"
   ]
  },
  {
   "cell_type": "code",
   "execution_count": 9,
   "id": "b0b0daa2-e871-438f-9719-2250bd8bceff",
   "metadata": {},
   "outputs": [],
   "source": [
    "dataset = load_dataset(\"multi_news\", split=\"test\", trust_remote_code=True)\n",
    "df = dataset.to_pandas().sample(2000, random_state=42)"
   ]
  },
  {
   "cell_type": "code",
   "execution_count": 10,
   "id": "ee1fcd4b-55db-4dc0-b411-d2e9251b1cff",
   "metadata": {},
   "outputs": [
    {
     "data": {
      "text/html": [
       "<div>\n",
       "<style scoped>\n",
       "    .dataframe tbody tr th:only-of-type {\n",
       "        vertical-align: middle;\n",
       "    }\n",
       "\n",
       "    .dataframe tbody tr th {\n",
       "        vertical-align: top;\n",
       "    }\n",
       "\n",
       "    .dataframe thead th {\n",
       "        text-align: right;\n",
       "    }\n",
       "</style>\n",
       "<table border=\"1\" class=\"dataframe\">\n",
       "  <thead>\n",
       "    <tr style=\"text-align: right;\">\n",
       "      <th></th>\n",
       "      <th>document</th>\n",
       "      <th>summary</th>\n",
       "    </tr>\n",
       "  </thead>\n",
       "  <tbody>\n",
       "    <tr>\n",
       "      <th>4830</th>\n",
       "      <td>Tweet with a location \\n \\n You can add locati...</td>\n",
       "      <td>– Denis Finley has taken to Twitter to call Po...</td>\n",
       "    </tr>\n",
       "    <tr>\n",
       "      <th>1255</th>\n",
       "      <td>CNN host Piers Morgan just called to discuss h...</td>\n",
       "      <td>– CNN's Piers Morgan thinks gun-rights propone...</td>\n",
       "    </tr>\n",
       "    <tr>\n",
       "      <th>80</th>\n",
       "      <td>White House communications director Anthony Sc...</td>\n",
       "      <td>– New White House communications director Anth...</td>\n",
       "    </tr>\n",
       "    <tr>\n",
       "      <th>3044</th>\n",
       "      <td>CLOSE Scientists say they've found archaeologi...</td>\n",
       "      <td>– Scientists say they have the first physical ...</td>\n",
       "    </tr>\n",
       "    <tr>\n",
       "      <th>4486</th>\n",
       "      <td>Click image above to view graphic \\n \\n Althou...</td>\n",
       "      <td>– Scientists are calling it a breakthrough and...</td>\n",
       "    </tr>\n",
       "  </tbody>\n",
       "</table>\n",
       "</div>"
      ],
      "text/plain": [
       "                                               document  \\\n",
       "4830  Tweet with a location \\n \\n You can add locati...   \n",
       "1255  CNN host Piers Morgan just called to discuss h...   \n",
       "80    White House communications director Anthony Sc...   \n",
       "3044  CLOSE Scientists say they've found archaeologi...   \n",
       "4486  Click image above to view graphic \\n \\n Althou...   \n",
       "\n",
       "                                                summary  \n",
       "4830  – Denis Finley has taken to Twitter to call Po...  \n",
       "1255  – CNN's Piers Morgan thinks gun-rights propone...  \n",
       "80    – New White House communications director Anth...  \n",
       "3044  – Scientists say they have the first physical ...  \n",
       "4486  – Scientists are calling it a breakthrough and...  "
      ]
     },
     "execution_count": 10,
     "metadata": {},
     "output_type": "execute_result"
    }
   ],
   "source": [
    "df.head()"
   ]
  },
  {
   "cell_type": "code",
   "execution_count": 11,
   "id": "d7aa8b31-9d51-4779-b0f8-5a5081179fb1",
   "metadata": {},
   "outputs": [
    {
     "data": {
      "text/plain": [
       "document    Tweet with a location \\n \\n You can add locati...\n",
       "summary     – Denis Finley has taken to Twitter to call Po...\n",
       "Name: 4830, dtype: object"
      ]
     },
     "execution_count": 11,
     "metadata": {},
     "output_type": "execute_result"
    }
   ],
   "source": [
    "df.iloc[0]"
   ]
  },
  {
   "cell_type": "code",
   "execution_count": 12,
   "id": "020ca1f9-0339-4a3b-9971-9c29034ef030",
   "metadata": {},
   "outputs": [],
   "source": [
    "model = SentenceTransformer(\"all-MiniLM-L6-v2\")"
   ]
  },
  {
   "cell_type": "code",
   "execution_count": 13,
   "id": "8e9d1e13-5d23-4596-a21b-367f4ae5247e",
   "metadata": {},
   "outputs": [
    {
     "data": {
      "application/vnd.jupyter.widget-view+json": {
       "model_id": "a8545d4c01244091837f905a9c460c36",
       "version_major": 2,
       "version_minor": 0
      },
      "text/plain": [
       "Batches:   0%|          | 0/63 [00:00<?, ?it/s]"
      ]
     },
     "metadata": {},
     "output_type": "display_data"
    }
   ],
   "source": [
    "df[\"embedding\"] = list(model.encode(df[\"summary\"].to_list(), show_progress_bar=True))"
   ]
  },
  {
   "cell_type": "code",
   "execution_count": 14,
   "id": "fbc6db3a-b95c-4af8-bc2c-98d84a1893f6",
   "metadata": {},
   "outputs": [
    {
     "data": {
      "text/html": [
       "<div>\n",
       "<style scoped>\n",
       "    .dataframe tbody tr th:only-of-type {\n",
       "        vertical-align: middle;\n",
       "    }\n",
       "\n",
       "    .dataframe tbody tr th {\n",
       "        vertical-align: top;\n",
       "    }\n",
       "\n",
       "    .dataframe thead th {\n",
       "        text-align: right;\n",
       "    }\n",
       "</style>\n",
       "<table border=\"1\" class=\"dataframe\">\n",
       "  <thead>\n",
       "    <tr style=\"text-align: right;\">\n",
       "      <th></th>\n",
       "      <th>document</th>\n",
       "      <th>summary</th>\n",
       "      <th>embedding</th>\n",
       "    </tr>\n",
       "  </thead>\n",
       "  <tbody>\n",
       "    <tr>\n",
       "      <th>4830</th>\n",
       "      <td>Tweet with a location \\n \\n You can add locati...</td>\n",
       "      <td>– Denis Finley has taken to Twitter to call Po...</td>\n",
       "      <td>[-0.05381892, 0.012980464, 0.037304673, -0.023...</td>\n",
       "    </tr>\n",
       "    <tr>\n",
       "      <th>1255</th>\n",
       "      <td>CNN host Piers Morgan just called to discuss h...</td>\n",
       "      <td>– CNN's Piers Morgan thinks gun-rights propone...</td>\n",
       "      <td>[0.011422995, 0.0039215954, -0.0013293847, -0....</td>\n",
       "    </tr>\n",
       "    <tr>\n",
       "      <th>80</th>\n",
       "      <td>White House communications director Anthony Sc...</td>\n",
       "      <td>– New White House communications director Anth...</td>\n",
       "      <td>[-0.003979931, -0.044023212, 0.013985306, 0.07...</td>\n",
       "    </tr>\n",
       "    <tr>\n",
       "      <th>3044</th>\n",
       "      <td>CLOSE Scientists say they've found archaeologi...</td>\n",
       "      <td>– Scientists say they have the first physical ...</td>\n",
       "      <td>[-0.061286863, 0.068048224, 0.007919072, 0.029...</td>\n",
       "    </tr>\n",
       "    <tr>\n",
       "      <th>4486</th>\n",
       "      <td>Click image above to view graphic \\n \\n Althou...</td>\n",
       "      <td>– Scientists are calling it a breakthrough and...</td>\n",
       "      <td>[-0.044350315, -0.03243989, -0.009361054, 0.09...</td>\n",
       "    </tr>\n",
       "  </tbody>\n",
       "</table>\n",
       "</div>"
      ],
      "text/plain": [
       "                                               document  \\\n",
       "4830  Tweet with a location \\n \\n You can add locati...   \n",
       "1255  CNN host Piers Morgan just called to discuss h...   \n",
       "80    White House communications director Anthony Sc...   \n",
       "3044  CLOSE Scientists say they've found archaeologi...   \n",
       "4486  Click image above to view graphic \\n \\n Althou...   \n",
       "\n",
       "                                                summary  \\\n",
       "4830  – Denis Finley has taken to Twitter to call Po...   \n",
       "1255  – CNN's Piers Morgan thinks gun-rights propone...   \n",
       "80    – New White House communications director Anth...   \n",
       "3044  – Scientists say they have the first physical ...   \n",
       "4486  – Scientists are calling it a breakthrough and...   \n",
       "\n",
       "                                              embedding  \n",
       "4830  [-0.05381892, 0.012980464, 0.037304673, -0.023...  \n",
       "1255  [0.011422995, 0.0039215954, -0.0013293847, -0....  \n",
       "80    [-0.003979931, -0.044023212, 0.013985306, 0.07...  \n",
       "3044  [-0.061286863, 0.068048224, 0.007919072, 0.029...  \n",
       "4486  [-0.044350315, -0.03243989, -0.009361054, 0.09...  "
      ]
     },
     "execution_count": 14,
     "metadata": {},
     "output_type": "execute_result"
    }
   ],
   "source": [
    "df.head()"
   ]
  },
  {
   "cell_type": "code",
   "execution_count": 15,
   "id": "545c3ff8-5a46-45de-b6cb-0821aee262ff",
   "metadata": {},
   "outputs": [],
   "source": [
    "passage_embeddings = df[\"embedding\"].to_list()"
   ]
  },
  {
   "cell_type": "code",
   "execution_count": 16,
   "id": "cdd9fc82-0a89-4f72-b874-e6880409892f",
   "metadata": {},
   "outputs": [
    {
     "name": "stdout",
     "output_type": "stream",
     "text": [
      "2000\n",
      "(384,)\n",
      "(2000, 3)\n"
     ]
    }
   ],
   "source": [
    "print(len(passage_embeddings))\n",
    "print(passage_embeddings[0].shape) # vector size of each embedding\n",
    "print(df.shape)"
   ]
  },
  {
   "cell_type": "code",
   "execution_count": 17,
   "id": "bd6fa77c-2511-412f-8509-def1d805d275",
   "metadata": {},
   "outputs": [],
   "source": [
    "def find_relevant_news(query):\n",
    "    # query = \"Find some articles about technology and artificial intelligence.\"\n",
    "    # query = \"Find some articles about technology and AI.\"\n",
    "    query_embedding = model.encode(query)\n",
    "    similarities = util.cos_sim(query_embedding, passage_embeddings)\n",
    "    top_matches = torch.topk(similarities.flatten(), 3)\n",
    "    print(top_matches)\n",
    "    \n",
    "    top_relevant_passages = [df.iloc[x.item()][\"summary\"][:160] + \"...\" for x in top_matches.indices]\n",
    "    return top_relevant_passages"
   ]
  },
  {
   "cell_type": "code",
   "execution_count": 18,
   "id": "a27a7b29-e801-48b3-b7f0-6bda2dba1316",
   "metadata": {},
   "outputs": [],
   "source": [
    "def interactive_search():\n",
    "    print(\"Welcome to Nobobi's Semantic News Search!\\n\")\n",
    "    while True:\n",
    "        print(\"Type in a topic you'd like to find articles about, and I'll do the searching! (Type 'exit' to quit)\\n> \", end=\"\")\n",
    "\n",
    "        query = input().strip()\n",
    "\n",
    "        if query.lower() == \"exit\":\n",
    "            print(\"\\nThanks for using the Semantic News Search! Have a great day!\")\n",
    "            break\n",
    "\n",
    "        print(\"\\n\\tHere are top 3 articles I found based on your query: \\n\")\n",
    "\n",
    "        passages = find_relevant_news(query)\n",
    "        for passage in passages:\n",
    "            print(\"\\n\\t\" + passage)\n",
    "\n",
    "        input(\"\\nPress Enter to continue searching...\")\n",
    "        # clear_screen()"
   ]
  },
  {
   "cell_type": "code",
   "execution_count": 19,
   "id": "1847acd8-347e-44a2-9e03-c2e88cbe29d7",
   "metadata": {},
   "outputs": [
    {
     "name": "stdout",
     "output_type": "stream",
     "text": [
      "Welcome to Nobobi's Semantic News Search!\n",
      "\n",
      "Type in a topic you'd like to find articles about, and I'll do the searching! (Type 'exit' to quit)\n",
      "> "
     ]
    },
    {
     "name": "stdin",
     "output_type": "stream",
     "text": [
      " AI\n"
     ]
    },
    {
     "name": "stdout",
     "output_type": "stream",
     "text": [
      "\n",
      "\tHere are top 3 articles I found based on your query: \n",
      "\n",
      "torch.return_types.topk(\n",
      "values=tensor([0.3132, 0.2817, 0.2318]),\n",
      "indices=tensor([ 616, 1612,   41]))\n",
      "\n",
      "\t– Ford has made another big bet on the future of self-driving cars, investing $1 billion in previously unknown startup Argo AI. \"The next decade will be defined...\n",
      "\n",
      "\t– The \"tech surge\" to fix HealthCare.gov includes some names from the industry's biggest players. Among them, per a Health department blog post, is Michael Dick...\n",
      "\n",
      "\t– Swatting a fruit fly is as tricky as trying to catch a tiny fighter jet with an expert pilot at the controls, researchers say. High-speed cameras captured the...\n"
     ]
    },
    {
     "name": "stdin",
     "output_type": "stream",
     "text": [
      "\n",
      "Press Enter to continue searching... \n"
     ]
    },
    {
     "name": "stdout",
     "output_type": "stream",
     "text": [
      "Type in a topic you'd like to find articles about, and I'll do the searching! (Type 'exit' to quit)\n",
      "> "
     ]
    },
    {
     "name": "stdin",
     "output_type": "stream",
     "text": [
      " Bus\n"
     ]
    },
    {
     "name": "stdout",
     "output_type": "stream",
     "text": [
      "\n",
      "\tHere are top 3 articles I found based on your query: \n",
      "\n",
      "torch.return_types.topk(\n",
      "values=tensor([0.5088, 0.4200, 0.2940]),\n",
      "indices=tensor([1671, 1368, 1945]))\n",
      "\n",
      "\t– A rush-hour collision between a Chicago Transit Authority bus and several other vehicles yesterday left one person dead and at least eight others injured, one...\n",
      "\n",
      "\t– A school bus carrying about 30 sixth-grade girls overturned in Kansas today when its driver took an on-ramp too quickly, police in Bonner Springs tell KCTV. E...\n",
      "\n",
      "\t– Riders of Philadelphia's No. 44 bus have been complaining a lot lately of lost cell phone calls, and NBC 10 found out why: A man, whom they identify only as \"...\n"
     ]
    },
    {
     "name": "stdin",
     "output_type": "stream",
     "text": [
      "\n",
      "Press Enter to continue searching... \n"
     ]
    },
    {
     "name": "stdout",
     "output_type": "stream",
     "text": [
      "Type in a topic you'd like to find articles about, and I'll do the searching! (Type 'exit' to quit)\n",
      "> "
     ]
    },
    {
     "name": "stdin",
     "output_type": "stream",
     "text": [
      " exit\n"
     ]
    },
    {
     "name": "stdout",
     "output_type": "stream",
     "text": [
      "\n",
      "Thanks for using the Semantic News Search! Have a great day!\n"
     ]
    }
   ],
   "source": [
    "# Start the interactive search\n",
    "interactive_search()"
   ]
  },
  {
   "cell_type": "code",
   "execution_count": null,
   "id": "d71d4596-8aa4-4464-9ad0-eb871336307a",
   "metadata": {},
   "outputs": [],
   "source": []
  }
 ],
 "metadata": {
  "kernelspec": {
   "display_name": "Python 3.10 (ML Env)",
   "language": "python",
   "name": "3.10env"
  },
  "language_info": {
   "codemirror_mode": {
    "name": "ipython",
    "version": 3
   },
   "file_extension": ".py",
   "mimetype": "text/x-python",
   "name": "python",
   "nbconvert_exporter": "python",
   "pygments_lexer": "ipython3",
   "version": "3.10.0"
  }
 },
 "nbformat": 4,
 "nbformat_minor": 5
}
