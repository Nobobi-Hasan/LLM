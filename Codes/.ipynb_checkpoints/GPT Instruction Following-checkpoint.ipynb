{
 "cells": [
  {
   "cell_type": "code",
   "execution_count": 1,
   "id": "9310f0b1-2426-4d2e-9f13-7f8be97cd1b1",
   "metadata": {},
   "outputs": [],
   "source": [
    "#demonstrate the process of training a GPT model to follow instructions effectively, using a custom dataset for varied tasks."
   ]
  },
  {
   "cell_type": "code",
   "execution_count": 2,
   "id": "aaa4bc4b-0f17-42b7-adf1-1a81ddfb6ce0",
   "metadata": {},
   "outputs": [],
   "source": [
    "# Run this code inside a virtual environment (python 3.10 for myself) and import all things inside the virtual environment using cmd***\n",
    "# open cmd as administrator where the virtual env is (D:\\MACHINE LEARNING\\LLM\\Codes\\python 3.10 virtual)\n",
    "# 3.10env\\Scripts\\activate"
   ]
  },
  {
   "cell_type": "code",
   "execution_count": 3,
   "id": "4f58eb82-3461-47c7-923d-0b991a10540a",
   "metadata": {},
   "outputs": [],
   "source": [
    "import warnings\n",
    "warnings.filterwarnings('ignore')"
   ]
  },
  {
   "cell_type": "code",
   "execution_count": 4,
   "id": "b0c5934b-0acb-4225-ac7a-c52ce6719366",
   "metadata": {},
   "outputs": [
    {
     "name": "stdout",
     "output_type": "stream",
     "text": [
      "WARNING:tensorflow:From D:\\MACHINE LEARNING\\Virtual_Env\\python 3.10 virtual\\3.10env\\lib\\site-packages\\tf_keras\\src\\losses.py:2976: The name tf.losses.sparse_softmax_cross_entropy is deprecated. Please use tf.compat.v1.losses.sparse_softmax_cross_entropy instead.\n",
      "\n"
     ]
    }
   ],
   "source": [
    "from transformers import (\n",
    "    AutoTokenizer,\n",
    "    AutoModelForCausalLM,\n",
    "    DataCollatorForLanguageModeling,\n",
    "    Trainer,\n",
    "    TrainingArguments,\n",
    ")\n",
    "\n",
    "from datasets import load_dataset"
   ]
  },
  {
   "cell_type": "code",
   "execution_count": 5,
   "id": "a620a7a1-e5cf-4aeb-915b-6cdc5d20711c",
   "metadata": {},
   "outputs": [
    {
     "data": {
      "text/html": [
       "<div>\n",
       "<style scoped>\n",
       "    .dataframe tbody tr th:only-of-type {\n",
       "        vertical-align: middle;\n",
       "    }\n",
       "\n",
       "    .dataframe tbody tr th {\n",
       "        vertical-align: top;\n",
       "    }\n",
       "\n",
       "    .dataframe thead th {\n",
       "        text-align: right;\n",
       "    }\n",
       "</style>\n",
       "<table border=\"1\" class=\"dataframe\">\n",
       "  <thead>\n",
       "    <tr style=\"text-align: right;\">\n",
       "      <th></th>\n",
       "      <th>output</th>\n",
       "      <th>input</th>\n",
       "      <th>instruction</th>\n",
       "    </tr>\n",
       "  </thead>\n",
       "  <tbody>\n",
       "    <tr>\n",
       "      <th>193942</th>\n",
       "      <td>sorted_array = sorted(['this', 'is', 'a', 'tes...</td>\n",
       "      <td></td>\n",
       "      <td>Reorder the items in an array according to the...</td>\n",
       "    </tr>\n",
       "    <tr>\n",
       "      <th>158917</th>\n",
       "      <td>The most effective way to lose weight quickly ...</td>\n",
       "      <td></td>\n",
       "      <td>How can I lose weight quickly.</td>\n",
       "    </tr>\n",
       "    <tr>\n",
       "      <th>207040</th>\n",
       "      <td>7 times</td>\n",
       "      <td></td>\n",
       "      <td>How many times Lewis Hamilton won the F1 Champ...</td>\n",
       "    </tr>\n",
       "    <tr>\n",
       "      <th>271091</th>\n",
       "      <td>The best ways to engage with customers on soci...</td>\n",
       "      <td></td>\n",
       "      <td>What is the best way to engage with customers ...</td>\n",
       "    </tr>\n",
       "    <tr>\n",
       "      <th>253975</th>\n",
       "      <td>Peanut butter, cheese, milk, fruit and popcorn</td>\n",
       "      <td></td>\n",
       "      <td>Give me a list of five  healthy snacks for kids</td>\n",
       "    </tr>\n",
       "    <tr>\n",
       "      <th>379395</th>\n",
       "      <td>1. Coffee is a natural source of antioxidants,...</td>\n",
       "      <td></td>\n",
       "      <td>What are the top 5 health benefits of drinking...</td>\n",
       "    </tr>\n",
       "    <tr>\n",
       "      <th>175545</th>\n",
       "      <td>Eat a balanced diet that includes plenty of fr...</td>\n",
       "      <td></td>\n",
       "      <td>What are the best tips for healthy living.</td>\n",
       "    </tr>\n",
       "    <tr>\n",
       "      <th>197654</th>\n",
       "      <td>string = \"Hello World!\"\\nstring = string.repla...</td>\n",
       "      <td></td>\n",
       "      <td>Using the input string, write a code to replac...</td>\n",
       "    </tr>\n",
       "    <tr>\n",
       "      <th>157408</th>\n",
       "      <td>Advantages of using mobile phones:\\n- Allows f...</td>\n",
       "      <td></td>\n",
       "      <td>What are the advantages and disadvantages of u...</td>\n",
       "    </tr>\n",
       "    <tr>\n",
       "      <th>392863</th>\n",
       "      <td>5050</td>\n",
       "      <td></td>\n",
       "      <td>Find out a solution to the following math prob...</td>\n",
       "    </tr>\n",
       "  </tbody>\n",
       "</table>\n",
       "</div>"
      ],
      "text/plain": [
       "                                                   output input  \\\n",
       "193942  sorted_array = sorted(['this', 'is', 'a', 'tes...         \n",
       "158917  The most effective way to lose weight quickly ...         \n",
       "207040                                            7 times         \n",
       "271091  The best ways to engage with customers on soci...         \n",
       "253975     Peanut butter, cheese, milk, fruit and popcorn         \n",
       "379395  1. Coffee is a natural source of antioxidants,...         \n",
       "175545  Eat a balanced diet that includes plenty of fr...         \n",
       "197654  string = \"Hello World!\"\\nstring = string.repla...         \n",
       "157408  Advantages of using mobile phones:\\n- Allows f...         \n",
       "392863                                               5050         \n",
       "\n",
       "                                              instruction  \n",
       "193942  Reorder the items in an array according to the...  \n",
       "158917                     How can I lose weight quickly.  \n",
       "207040  How many times Lewis Hamilton won the F1 Champ...  \n",
       "271091  What is the best way to engage with customers ...  \n",
       "253975    Give me a list of five  healthy snacks for kids  \n",
       "379395  What are the top 5 health benefits of drinking...  \n",
       "175545         What are the best tips for healthy living.  \n",
       "197654  Using the input string, write a code to replac...  \n",
       "157408  What are the advantages and disadvantages of u...  \n",
       "392863  Find out a solution to the following math prob...  "
      ]
     },
     "execution_count": 5,
     "metadata": {},
     "output_type": "execute_result"
    }
   ],
   "source": [
    "dataset = load_dataset(\"hakurei/open-instruct-v1\", split='train') #instruction-tuning dataset\n",
    "dataset.to_pandas().sample(10)"
   ]
  },
  {
   "cell_type": "code",
   "execution_count": 6,
   "id": "cca69497-5c0a-47d9-8b07-20bec03a6db3",
   "metadata": {},
   "outputs": [
    {
     "data": {
      "text/plain": [
       "{'output': 'The three primary colors are red, blue, and yellow.',\n",
       " 'input': '',\n",
       " 'instruction': 'What are the three primary colors?'}"
      ]
     },
     "execution_count": 6,
     "metadata": {},
     "output_type": "execute_result"
    }
   ],
   "source": [
    "dataset[1]"
   ]
  },
  {
   "cell_type": "code",
   "execution_count": 7,
   "id": "57bf3c5d-2f27-4342-b3ce-2e29a165d6d0",
   "metadata": {},
   "outputs": [],
   "source": [
    "def preprocess(example):\n",
    "    example['prompt'] = f\"{example['instruction']} {example['input']} {example['output']}\"\n",
    "\n",
    "    return example"
   ]
  },
  {
   "cell_type": "code",
   "execution_count": 8,
   "id": "a45dad2a-9b28-4137-a39d-b3d49c845172",
   "metadata": {},
   "outputs": [],
   "source": [
    "def tokenize_datasets(dataset):\n",
    "    tokenized_dataset = dataset.map(lambda example: tokenizer(example['prompt'], truncation=True, max_length=128), batched=True, remove_columns=['prompt'])\n",
    "\n",
    "    return tokenized_dataset"
   ]
  },
  {
   "cell_type": "code",
   "execution_count": 9,
   "id": "b40c3c07-23ce-4ef1-a0d6-48314ce1cb17",
   "metadata": {},
   "outputs": [],
   "source": [
    "dataset = dataset.map(preprocess, remove_columns=['instruction', 'input', 'output'])\n",
    "# dataset =  dataset.shuffle(42).select(range(100000)).train_test_split(test_size=0.1, seed=42)\n",
    "dataset =  dataset.shuffle(42).select(range(10000)).train_test_split(test_size=0.1, seed=42) # using 10,000 for lowering the training time :("
   ]
  },
  {
   "cell_type": "code",
   "execution_count": 10,
   "id": "bb89a8c3-f56d-4d14-b948-5503d3edf373",
   "metadata": {},
   "outputs": [],
   "source": [
    "train_dataset = dataset['train']\n",
    "test_dataset = dataset['test']"
   ]
  },
  {
   "cell_type": "code",
   "execution_count": 11,
   "id": "1924669c-eb33-4db4-887b-72dd38414585",
   "metadata": {},
   "outputs": [
    {
     "data": {
      "text/plain": [
       "{'prompt': 'Rewrite the following sentence using the hypernym of the underlined word: Kevin loves to watch YouTube videos. Kevin loves to watch videos.'}"
      ]
     },
     "execution_count": 11,
     "metadata": {},
     "output_type": "execute_result"
    }
   ],
   "source": [
    "train_dataset[0]"
   ]
  },
  {
   "cell_type": "code",
   "execution_count": 12,
   "id": "5c3c4f36-7f8c-404c-93f5-1965f66b2974",
   "metadata": {},
   "outputs": [],
   "source": [
    "MODEL_NAME = \"microsoft/DialoGPT-medium\""
   ]
  },
  {
   "cell_type": "code",
   "execution_count": 13,
   "id": "10420be9-b968-499b-8861-666c03ffc941",
   "metadata": {},
   "outputs": [],
   "source": [
    "tokenizer = AutoTokenizer.from_pretrained(MODEL_NAME)\n",
    "tokenizer.pad_token = tokenizer.eos_token # Adding pad token because DialoGPT doesn't have this in default"
   ]
  },
  {
   "cell_type": "code",
   "execution_count": 14,
   "id": "96599577-599a-4ffd-b547-e8b2c2faee69",
   "metadata": {},
   "outputs": [
    {
     "data": {
      "application/vnd.jupyter.widget-view+json": {
       "model_id": "298de65176b14cabb6c1e9aaf6139a87",
       "version_major": 2,
       "version_minor": 0
      },
      "text/plain": [
       "Map:   0%|          | 0/9000 [00:00<?, ? examples/s]"
      ]
     },
     "metadata": {},
     "output_type": "display_data"
    },
    {
     "data": {
      "application/vnd.jupyter.widget-view+json": {
       "model_id": "42ec67e278b94a919d9186b15fc66754",
       "version_major": 2,
       "version_minor": 0
      },
      "text/plain": [
       "Map:   0%|          | 0/1000 [00:00<?, ? examples/s]"
      ]
     },
     "metadata": {},
     "output_type": "display_data"
    }
   ],
   "source": [
    "train_dataset = tokenize_datasets(train_dataset)\n",
    "test_dataset = tokenize_datasets(test_dataset)"
   ]
  },
  {
   "cell_type": "code",
   "execution_count": 15,
   "id": "8bed205b-82f5-4609-9d71-e150efca9661",
   "metadata": {},
   "outputs": [],
   "source": [
    "model = AutoModelForCausalLM.from_pretrained(MODEL_NAME)"
   ]
  },
  {
   "cell_type": "code",
   "execution_count": 16,
   "id": "290888e0-07bb-46ff-b873-5536180e7ea8",
   "metadata": {},
   "outputs": [],
   "source": [
    "# In the context of training transformer-based language models (like GPT), \n",
    "# the data collator is responsible for batching data in a way that is appropriate for the model training. \n",
    "# It helps prepare the dataset for training by padding, creating input masks, and ensuring that the input data is in the right format for the model."
   ]
  },
  {
   "cell_type": "code",
   "execution_count": 17,
   "id": "a4b27e3b-c1dd-494c-9ead-b8db0c600cef",
   "metadata": {},
   "outputs": [],
   "source": [
    "data_collator = DataCollatorForLanguageModeling(tokenizer=tokenizer, mlm=False)"
   ]
  },
  {
   "cell_type": "code",
   "execution_count": 18,
   "id": "cb34d5aa-1418-4be2-a169-9f4a46d2c64e",
   "metadata": {},
   "outputs": [],
   "source": [
    "# configure the training parameters\n",
    "traing_args = TrainingArguments(output_dir=\"../Models/diablo_gpt\",\n",
    "                                num_train_epochs=1,\n",
    "                                per_device_train_batch_size=32,\n",
    "                                per_device_eval_batch_size=32)"
   ]
  },
  {
   "cell_type": "code",
   "execution_count": 19,
   "id": "c0702f6b-3ea4-4c37-a712-e7febe3b6c9f",
   "metadata": {},
   "outputs": [],
   "source": [
    "# initiate the training process using our prepared datasets.\n",
    "trainer = Trainer(model=model,\n",
    "                    args=traing_args,\n",
    "                    train_dataset=train_dataset,\n",
    "                    eval_dataset=test_dataset,\n",
    "                    data_collator=data_collator)"
   ]
  },
  {
   "cell_type": "code",
   "execution_count": 20,
   "id": "f35da475-8902-46de-ade5-49f8958e3783",
   "metadata": {},
   "outputs": [
    {
     "name": "stderr",
     "output_type": "stream",
     "text": [
      "`loss_type=None` was set in the config but it is unrecognised.Using the default loss: `ForCausalLMLoss`.\n"
     ]
    },
    {
     "data": {
      "text/html": [
       "\n",
       "    <div>\n",
       "      \n",
       "      <progress value='282' max='282' style='width:300px; height:20px; vertical-align: middle;'></progress>\n",
       "      [282/282 5:47:20, Epoch 1/1]\n",
       "    </div>\n",
       "    <table border=\"1\" class=\"dataframe\">\n",
       "  <thead>\n",
       " <tr style=\"text-align: left;\">\n",
       "      <th>Step</th>\n",
       "      <th>Training Loss</th>\n",
       "    </tr>\n",
       "  </thead>\n",
       "  <tbody>\n",
       "  </tbody>\n",
       "</table><p>"
      ],
      "text/plain": [
       "<IPython.core.display.HTML object>"
      ]
     },
     "metadata": {},
     "output_type": "display_data"
    },
    {
     "data": {
      "text/plain": [
       "TrainOutput(global_step=282, training_loss=2.8788707543772163, metrics={'train_runtime': 20903.117, 'train_samples_per_second': 0.431, 'train_steps_per_second': 0.013, 'total_flos': 2089576562688000.0, 'train_loss': 2.8788707543772163, 'epoch': 1.0})"
      ]
     },
     "execution_count": 20,
     "metadata": {},
     "output_type": "execute_result"
    }
   ],
   "source": [
    "trainer.train()"
   ]
  },
  {
   "cell_type": "code",
   "execution_count": null,
   "id": "5526d065-29b8-4b93-8cf9-71c6ec214017",
   "metadata": {},
   "outputs": [],
   "source": []
  }
 ],
 "metadata": {
  "kernelspec": {
   "display_name": "Python 3.10 (ML Env)",
   "language": "python",
   "name": "3.10env"
  },
  "language_info": {
   "codemirror_mode": {
    "name": "ipython",
    "version": 3
   },
   "file_extension": ".py",
   "mimetype": "text/x-python",
   "name": "python",
   "nbconvert_exporter": "python",
   "pygments_lexer": "ipython3",
   "version": "3.10.0"
  }
 },
 "nbformat": 4,
 "nbformat_minor": 5
}
