{
 "cells": [
  {
   "cell_type": "code",
   "execution_count": 1,
   "id": "e5af0e2f-13a7-4da9-bcce-6a9cdb1c77eb",
   "metadata": {},
   "outputs": [],
   "source": [
    "import warnings\n",
    "warnings.filterwarnings('ignore')"
   ]
  },
  {
   "cell_type": "code",
   "execution_count": 2,
   "id": "3a549d2c-b399-4b11-8645-ceb259bb1e17",
   "metadata": {},
   "outputs": [],
   "source": [
    "# Import required libraries\n",
    "from transformers import BertModel, AutoTokenizer\n",
    "import pandas as pd"
   ]
  },
  {
   "cell_type": "code",
   "execution_count": 3,
   "id": "e110ec38-5aa0-48cf-aa11-f94953d4c745",
   "metadata": {},
   "outputs": [],
   "source": [
    "model_name = 'bert-base-cased'"
   ]
  },
  {
   "cell_type": "code",
   "execution_count": 4,
   "id": "2f6f8bfe-46d0-43a0-865e-e2de61766577",
   "metadata": {},
   "outputs": [],
   "source": [
    "model = BertModel.from_pretrained(model_name)\n",
    "tokenizer = AutoTokenizer.from_pretrained(model_name)"
   ]
  },
  {
   "cell_type": "code",
   "execution_count": 5,
   "id": "d264f62f-5507-4413-ada9-1dda3143c02b",
   "metadata": {},
   "outputs": [
    {
     "data": {
      "text/plain": [
       "['When',\n",
       " 'life',\n",
       " 'gives',\n",
       " 'you',\n",
       " 'lemon',\n",
       " '##s',\n",
       " ',',\n",
       " 'don',\n",
       " \"'\",\n",
       " 't',\n",
       " 'make',\n",
       " 'lemon',\n",
       " '##ade',\n",
       " '.']"
      ]
     },
     "execution_count": 5,
     "metadata": {},
     "output_type": "execute_result"
    }
   ],
   "source": [
    "sentence = \"When life gives you lemons, don't make lemonade.\"\n",
    "tokens = tokenizer.tokenize(sentence)\n",
    "tokens"
   ]
  },
  {
   "cell_type": "code",
   "execution_count": 6,
   "id": "2192df32-0bf0-4d7a-a371-4e8443e90086",
   "metadata": {},
   "outputs": [
    {
     "data": {
      "text/html": [
       "<div>\n",
       "<style scoped>\n",
       "    .dataframe tbody tr th:only-of-type {\n",
       "        vertical-align: middle;\n",
       "    }\n",
       "\n",
       "    .dataframe tbody tr th {\n",
       "        vertical-align: top;\n",
       "    }\n",
       "\n",
       "    .dataframe thead th {\n",
       "        text-align: right;\n",
       "    }\n",
       "</style>\n",
       "<table border=\"1\" class=\"dataframe\">\n",
       "  <thead>\n",
       "    <tr style=\"text-align: right;\">\n",
       "      <th></th>\n",
       "      <th>token</th>\n",
       "      <th>token_id</th>\n",
       "    </tr>\n",
       "  </thead>\n",
       "  <tbody>\n",
       "    <tr>\n",
       "      <th>0</th>\n",
       "      <td>Retired</td>\n",
       "      <td>14454</td>\n",
       "    </tr>\n",
       "    <tr>\n",
       "      <th>1</th>\n",
       "      <td>handball</td>\n",
       "      <td>17678</td>\n",
       "    </tr>\n",
       "    <tr>\n",
       "      <th>2</th>\n",
       "      <td>##ℓ</td>\n",
       "      <td>28734</td>\n",
       "    </tr>\n",
       "    <tr>\n",
       "      <th>3</th>\n",
       "      <td>surf</td>\n",
       "      <td>20114</td>\n",
       "    </tr>\n",
       "    <tr>\n",
       "      <th>4</th>\n",
       "      <td>Yellow</td>\n",
       "      <td>8278</td>\n",
       "    </tr>\n",
       "  </tbody>\n",
       "</table>\n",
       "</div>"
      ],
      "text/plain": [
       "      token  token_id\n",
       "0   Retired     14454\n",
       "1  handball     17678\n",
       "2       ##ℓ     28734\n",
       "3      surf     20114\n",
       "4    Yellow      8278"
      ]
     },
     "execution_count": 6,
     "metadata": {},
     "output_type": "execute_result"
    }
   ],
   "source": [
    "vocab = tokenizer.vocab\n",
    "vocab_df = pd.DataFrame({\"token\": vocab.keys(), \"token_id\": vocab.values()})\n",
    "vocab_df.head()"
   ]
  },
  {
   "cell_type": "code",
   "execution_count": 7,
   "id": "3ba67a55-e977-4283-b89e-c7eb3c53d3e9",
   "metadata": {},
   "outputs": [
    {
     "data": {
      "text/html": [
       "<div>\n",
       "<style scoped>\n",
       "    .dataframe tbody tr th:only-of-type {\n",
       "        vertical-align: middle;\n",
       "    }\n",
       "\n",
       "    .dataframe tbody tr th {\n",
       "        vertical-align: top;\n",
       "    }\n",
       "\n",
       "    .dataframe thead th {\n",
       "        text-align: right;\n",
       "    }\n",
       "</style>\n",
       "<table border=\"1\" class=\"dataframe\">\n",
       "  <thead>\n",
       "    <tr style=\"text-align: right;\">\n",
       "      <th></th>\n",
       "      <th>token</th>\n",
       "    </tr>\n",
       "    <tr>\n",
       "      <th>token_id</th>\n",
       "      <th></th>\n",
       "    </tr>\n",
       "  </thead>\n",
       "  <tbody>\n",
       "    <tr>\n",
       "      <th>0</th>\n",
       "      <td>[PAD]</td>\n",
       "    </tr>\n",
       "    <tr>\n",
       "      <th>1</th>\n",
       "      <td>[unused1]</td>\n",
       "    </tr>\n",
       "    <tr>\n",
       "      <th>2</th>\n",
       "      <td>[unused2]</td>\n",
       "    </tr>\n",
       "    <tr>\n",
       "      <th>3</th>\n",
       "      <td>[unused3]</td>\n",
       "    </tr>\n",
       "    <tr>\n",
       "      <th>4</th>\n",
       "      <td>[unused4]</td>\n",
       "    </tr>\n",
       "  </tbody>\n",
       "</table>\n",
       "</div>"
      ],
      "text/plain": [
       "              token\n",
       "token_id           \n",
       "0             [PAD]\n",
       "1         [unused1]\n",
       "2         [unused2]\n",
       "3         [unused3]\n",
       "4         [unused4]"
      ]
     },
     "execution_count": 7,
     "metadata": {},
     "output_type": "execute_result"
    }
   ],
   "source": [
    "vocab_df = vocab_df.sort_values(by=\"token_id\").set_index(\"token_id\")\n",
    "vocab_df.head()"
   ]
  },
  {
   "cell_type": "code",
   "execution_count": 8,
   "id": "191a04d2-e471-4d0e-8692-d5ac106f0737",
   "metadata": {},
   "outputs": [
    {
     "name": "stdout",
     "output_type": "stream",
     "text": [
      "28996\n"
     ]
    }
   ],
   "source": [
    "print(len(vocab_df))"
   ]
  },
  {
   "cell_type": "code",
   "execution_count": 9,
   "id": "2058f07f-a187-48e3-831a-119c2e7d0eca",
   "metadata": {},
   "outputs": [
    {
     "data": {
      "text/plain": [
       "[101,\n",
       " 1332,\n",
       " 1297,\n",
       " 3114,\n",
       " 1128,\n",
       " 22782,\n",
       " 1116,\n",
       " 117,\n",
       " 1274,\n",
       " 112,\n",
       " 189,\n",
       " 1294,\n",
       " 22782,\n",
       " 6397,\n",
       " 119,\n",
       " 102]"
      ]
     },
     "execution_count": 9,
     "metadata": {},
     "output_type": "execute_result"
    }
   ],
   "source": [
    "# Encode the sentence into token_ids using the tokenizer\n",
    "token_ids = tokenizer.encode(sentence)\n",
    "token_ids"
   ]
  },
  {
   "cell_type": "code",
   "execution_count": 10,
   "id": "5cd569f5-5570-422e-8162-4f42daa39d91",
   "metadata": {},
   "outputs": [
    {
     "name": "stdout",
     "output_type": "stream",
     "text": [
      "Number of tokens: 14\n",
      "Number of token IDs: 16\n"
     ]
    }
   ],
   "source": [
    "print(\"Number of tokens:\", len(tokens))\n",
    "print(\"Number of token IDs:\", len(token_ids))"
   ]
  },
  {
   "cell_type": "code",
   "execution_count": 11,
   "id": "30d6ed6a-24b2-4919-ba91-d6294e2879a5",
   "metadata": {},
   "outputs": [
    {
     "name": "stdout",
     "output_type": "stream",
     "text": [
      "Token at position 101: token    [CLS]\n",
      "Name: 101, dtype: object\n",
      "Token at position 102: token    [SEP]\n",
      "Name: 102, dtype: object\n"
     ]
    }
   ],
   "source": [
    "print(\"Token at position 101:\", vocab_df.iloc[101])\n",
    "print(\"Token at position 102:\", vocab_df.iloc[102])"
   ]
  },
  {
   "cell_type": "code",
   "execution_count": 12,
   "id": "d9ccd184-6f83-42c6-a24e-5626944bc8d9",
   "metadata": {},
   "outputs": [
    {
     "data": {
      "text/plain": [
       "[('When', 1332),\n",
       " ('life', 1297),\n",
       " ('gives', 3114),\n",
       " ('you', 1128),\n",
       " ('lemon', 22782),\n",
       " ('##s', 1116),\n",
       " (',', 117),\n",
       " ('don', 1274),\n",
       " (\"'\", 112),\n",
       " ('t', 189),\n",
       " ('make', 1294),\n",
       " ('lemon', 22782),\n",
       " ('##ade', 6397),\n",
       " ('.', 119)]"
      ]
     },
     "execution_count": 12,
     "metadata": {},
     "output_type": "execute_result"
    }
   ],
   "source": [
    "list(zip(tokens, token_ids[1:-1]))"
   ]
  },
  {
   "cell_type": "code",
   "execution_count": 13,
   "id": "60138859-f079-41e4-ab07-b5c1c19536af",
   "metadata": {},
   "outputs": [
    {
     "data": {
      "text/plain": [
       "\"[CLS] When life gives you lemons, don't make lemonade. [SEP]\""
      ]
     },
     "execution_count": 13,
     "metadata": {},
     "output_type": "execute_result"
    }
   ],
   "source": [
    "tokenizer.decode(token_ids)"
   ]
  },
  {
   "cell_type": "code",
   "execution_count": 14,
   "id": "fa4ba188-8093-457b-b4f6-e704d068a866",
   "metadata": {},
   "outputs": [
    {
     "data": {
      "text/plain": [
       "\"When life gives you lemons, don't make lemonade.\""
      ]
     },
     "execution_count": 14,
     "metadata": {},
     "output_type": "execute_result"
    }
   ],
   "source": [
    "tokenizer.decode(token_ids[1:-1])"
   ]
  },
  {
   "cell_type": "code",
   "execution_count": 15,
   "id": "8c8fb583-6180-4a7f-b606-1eae020b744e",
   "metadata": {},
   "outputs": [
    {
     "data": {
      "text/plain": [
       "'lifesade'"
      ]
     },
     "execution_count": 15,
     "metadata": {},
     "output_type": "execute_result"
    }
   ],
   "source": [
    "tokenizer.decode([1297,1116,6397])"
   ]
  },
  {
   "cell_type": "code",
   "execution_count": 16,
   "id": "40d6c7c5-d035-4e66-8f87-9851717ea958",
   "metadata": {},
   "outputs": [
    {
     "data": {
      "text/plain": [
       "{'input_ids': [101, 1332, 1297, 3114, 1128, 22782, 1116, 117, 1274, 112, 189, 1294, 22782, 6397, 119, 102], 'token_type_ids': [0, 0, 0, 0, 0, 0, 0, 0, 0, 0, 0, 0, 0, 0, 0, 0], 'attention_mask': [1, 1, 1, 1, 1, 1, 1, 1, 1, 1, 1, 1, 1, 1, 1, 1]}"
      ]
     },
     "execution_count": 16,
     "metadata": {},
     "output_type": "execute_result"
    }
   ],
   "source": [
    "tokenizer_out = tokenizer(sentence)\n",
    "tokenizer_out"
   ]
  },
  {
   "cell_type": "markdown",
   "id": "6ce54f1b-e403-4835-a4d3-5b84098d76a6",
   "metadata": {},
   "source": [
    "# Handling Multiple Sentences"
   ]
  },
  {
   "cell_type": "code",
   "execution_count": 17,
   "id": "dc4ff765-f69f-4e4c-99ac-7842b24bfc6b",
   "metadata": {},
   "outputs": [
    {
     "data": {
      "text/plain": [
       "'When life gives you lemons, make lemonade.'"
      ]
     },
     "execution_count": 17,
     "metadata": {},
     "output_type": "execute_result"
    }
   ],
   "source": [
    "# Create a new sentence by removing \"don't \" from the original sentence\n",
    "sentence2 = sentence.replace(\"don't \", \"\")\n",
    "sentence2"
   ]
  },
  {
   "cell_type": "code",
   "execution_count": 18,
   "id": "5106f2cf-718f-4ba5-84a7-1c40c89ad2ea",
   "metadata": {},
   "outputs": [
    {
     "data": {
      "text/plain": [
       "{'input_ids': [[101, 1332, 1297, 3114, 1128, 22782, 1116, 117, 1274, 112, 189, 1294, 22782, 6397, 119, 102], [101, 1332, 1297, 3114, 1128, 22782, 1116, 117, 1294, 22782, 6397, 119, 102, 0, 0, 0]], 'token_type_ids': [[0, 0, 0, 0, 0, 0, 0, 0, 0, 0, 0, 0, 0, 0, 0, 0], [0, 0, 0, 0, 0, 0, 0, 0, 0, 0, 0, 0, 0, 0, 0, 0]], 'attention_mask': [[1, 1, 1, 1, 1, 1, 1, 1, 1, 1, 1, 1, 1, 1, 1, 1], [1, 1, 1, 1, 1, 1, 1, 1, 1, 1, 1, 1, 1, 0, 0, 0]]}"
      ]
     },
     "execution_count": 18,
     "metadata": {},
     "output_type": "execute_result"
    }
   ],
   "source": [
    "# Tokenize both sentences with padding\n",
    "# padding adds extra dummy tokens to shorter sentences, in order to make the shapes fit together.\n",
    "tokenizer_out2 = tokenizer([sentence, sentence2], padding=True) \n",
    "tokenizer_out2"
   ]
  },
  {
   "cell_type": "code",
   "execution_count": 19,
   "id": "80d09c9b-9660-4a7e-b8b5-1bec924c1411",
   "metadata": {},
   "outputs": [
    {
     "name": "stdout",
     "output_type": "stream",
     "text": [
      "[CLS] When life gives you lemons, don't make lemonade. [SEP]\n",
      "[CLS] When life gives you lemons, make lemonade. [SEP] [PAD] [PAD] [PAD]\n"
     ]
    }
   ],
   "source": [
    "print(tokenizer.decode(tokenizer_out2['input_ids'][0]))\n",
    "print(tokenizer.decode(tokenizer_out2['input_ids'][1]))\n",
    "# Paddings in the last"
   ]
  },
  {
   "cell_type": "code",
   "execution_count": null,
   "id": "b9e5690c-2b52-46ec-b419-789fb22f19eb",
   "metadata": {},
   "outputs": [],
   "source": []
  }
 ],
 "metadata": {
  "kernelspec": {
   "display_name": "Python 3 (ipykernel)",
   "language": "python",
   "name": "python3"
  },
  "language_info": {
   "codemirror_mode": {
    "name": "ipython",
    "version": 3
   },
   "file_extension": ".py",
   "mimetype": "text/x-python",
   "name": "python",
   "nbconvert_exporter": "python",
   "pygments_lexer": "ipython3",
   "version": "3.12.7"
  }
 },
 "nbformat": 4,
 "nbformat_minor": 5
}
