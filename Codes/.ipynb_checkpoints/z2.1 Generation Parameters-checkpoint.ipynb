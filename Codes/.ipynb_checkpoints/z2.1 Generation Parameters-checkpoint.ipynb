{
 "cells": [
  {
   "cell_type": "code",
   "execution_count": 1,
   "id": "a34eb07e-c907-4b3f-9831-5fd66546b6d4",
   "metadata": {},
   "outputs": [],
   "source": [
    "import warnings\n",
    "warnings.filterwarnings('ignore')"
   ]
  },
  {
   "cell_type": "code",
   "execution_count": 2,
   "id": "4a6b055d-c6f7-4b48-8c87-ca3bdb521013",
   "metadata": {},
   "outputs": [],
   "source": [
    "from transformers import AutoModelForCausalLM, AutoTokenizer\n",
    "import torch"
   ]
  },
  {
   "cell_type": "code",
   "execution_count": 3,
   "id": "99c9d68b-3d71-4f0b-bf94-7e006b3aa978",
   "metadata": {},
   "outputs": [],
   "source": [
    "model_name = \"TinyLlama/TinyLlama-1.1B-Chat-v1.0\"\n",
    "device = \"cpu\""
   ]
  },
  {
   "cell_type": "code",
   "execution_count": 4,
   "id": "6f063333-7b2f-49a0-b2e3-7878b89a9615",
   "metadata": {},
   "outputs": [],
   "source": [
    "model = AutoModelForCausalLM.from_pretrained(model_name).to(device)\n",
    "tokenizer = AutoTokenizer.from_pretrained(model_name)"
   ]
  },
  {
   "cell_type": "code",
   "execution_count": 5,
   "id": "a8c6d8c1-c258-4127-ae87-0dea4440b30c",
   "metadata": {},
   "outputs": [],
   "source": [
    "message =[\n",
    "    {\"role\": \"user\", \"content\": \"What is the most popular drink of Bangladesh?\"},\n",
    "    {\"role\": \"assistant\", \"content\": \"It is tea.\"},\n",
    "    {\"role\": \"user\", \"content\": \"How to prepare it?\"},\n",
    "]"
   ]
  },
  {
   "cell_type": "code",
   "execution_count": 6,
   "id": "81ba2879-63f0-4332-9f69-ce1eb25a61a9",
   "metadata": {},
   "outputs": [
    {
     "name": "stdout",
     "output_type": "stream",
     "text": [
      "tensor([[  529, 29989,  1792, 29989, 29958,    13,  5618,   338,   278,  1556,\n",
      "          5972, 13748,   310, 14320, 29880, 21754, 29973,     2, 29871,    13,\n",
      "         29966, 29989,   465, 22137, 29989, 29958,    13,  3112,   338, 23429,\n",
      "         29889,     2, 29871,    13, 29966, 29989,  1792, 29989, 29958,    13,\n",
      "          5328,   304, 19012,   372, 29973,     2, 29871,    13, 29966, 29989,\n",
      "           465, 22137, 29989, 29958,    13]])\n"
     ]
    }
   ],
   "source": [
    "model_inputs = tokenizer.apply_chat_template(message, add_generation_prompt=True, return_tensors=\"pt\")\n",
    "print(model_inputs)"
   ]
  },
  {
   "cell_type": "code",
   "execution_count": null,
   "id": "7540ab99-f384-4e3f-9a80-7f66ef0ba9b6",
   "metadata": {},
   "outputs": [],
   "source": [
    "# max_new_tokens=256 controls the output size, as Input + output should be less than the models window size.\n",
    "# do_sample=True means each time gives different result.\n",
    "# temperature controles the fifference leveel of do_sample.\n",
    "# top_p also controles the fifference leveel of do_sample. 0.1 means next word is in top 10% probability.\n",
    "\n",
    "generated_ids = model.generate(model_inputs, max_new_tokens=256, do_sample=True, temperature=0.6, top_p=0.3)\n",
    "print(generated_ids)"
   ]
  },
  {
   "cell_type": "code",
   "execution_count": null,
   "id": "a853ebc6-6355-43ff-b634-e8c59f27b35b",
   "metadata": {},
   "outputs": [],
   "source": [
    "decoded_response = tokenizer.batch_decode(generated_ids)\n",
    "print(decoded_response[0])"
   ]
  },
  {
   "cell_type": "code",
   "execution_count": null,
   "id": "ce6e1a34-73d8-4a5f-a251-eaa42853ad00",
   "metadata": {},
   "outputs": [],
   "source": []
  }
 ],
 "metadata": {
  "kernelspec": {
   "display_name": "Python 3.10 (ML Env)",
   "language": "python",
   "name": "3.10env"
  },
  "language_info": {
   "codemirror_mode": {
    "name": "ipython",
    "version": 3
   },
   "file_extension": ".py",
   "mimetype": "text/x-python",
   "name": "python",
   "nbconvert_exporter": "python",
   "pygments_lexer": "ipython3",
   "version": "3.10.0"
  }
 },
 "nbformat": 4,
 "nbformat_minor": 5
}
