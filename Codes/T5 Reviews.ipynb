{
 "cells": [
  {
   "cell_type": "code",
   "execution_count": 1,
   "id": "33eba031-b7ca-4363-ad49-f9dcbc62cce5",
   "metadata": {},
   "outputs": [],
   "source": [
    "# Run this code inside a virtual environment (python 3.10 for myself) and import all things inside the virtual environment using cmd***\n",
    "# open cmd as administrator where the virtual env is (D:\\MACHINE LEARNING\\LLM\\Codes\\python 3.10 virtual)\n",
    "# 3.10env\\Scripts\\activate"
   ]
  },
  {
   "cell_type": "code",
   "execution_count": 2,
   "id": "03b140a9-d055-4813-a886-bbd951d12187",
   "metadata": {},
   "outputs": [],
   "source": [
    "import warnings\n",
    "warnings.filterwarnings('ignore')"
   ]
  },
  {
   "cell_type": "code",
   "execution_count": 3,
   "id": "8bf81fe6-e916-415e-bc14-d3aed8347ad8",
   "metadata": {},
   "outputs": [
    {
     "name": "stdout",
     "output_type": "stream",
     "text": [
      "WARNING:tensorflow:From D:\\MACHINE LEARNING\\Virtual_Env\\python 3.10 virtual\\3.10env\\lib\\site-packages\\tf_keras\\src\\losses.py:2976: The name tf.losses.sparse_softmax_cross_entropy is deprecated. Please use tf.compat.v1.losses.sparse_softmax_cross_entropy instead.\n",
      "\n"
     ]
    }
   ],
   "source": [
    "import numpy as np\n",
    "import pandas as pd\n",
    "from datasets import load_dataset, Dataset\n",
    "from transformers import T5Tokenizer, T5ForConditionalGeneration, TrainingArguments, Trainer\n",
    "from transformers import DataCollatorWithPadding"
   ]
  },
  {
   "cell_type": "code",
   "execution_count": 4,
   "id": "f8c0695b-82ee-4ad6-9d98-b1a653c83647",
   "metadata": {},
   "outputs": [
    {
     "data": {
      "text/html": [
       "<div>\n",
       "<style scoped>\n",
       "    .dataframe tbody tr th:only-of-type {\n",
       "        vertical-align: middle;\n",
       "    }\n",
       "\n",
       "    .dataframe tbody tr th {\n",
       "        vertical-align: top;\n",
       "    }\n",
       "\n",
       "    .dataframe thead th {\n",
       "        text-align: right;\n",
       "    }\n",
       "</style>\n",
       "<table border=\"1\" class=\"dataframe\">\n",
       "  <thead>\n",
       "    <tr style=\"text-align: right;\">\n",
       "      <th></th>\n",
       "      <th>title</th>\n",
       "      <th>review_headline</th>\n",
       "      <th>rating</th>\n",
       "      <th>text</th>\n",
       "      <th>verified_purchase</th>\n",
       "    </tr>\n",
       "  </thead>\n",
       "  <tbody>\n",
       "    <tr>\n",
       "      <th>0</th>\n",
       "      <td>Accupressure Guide</td>\n",
       "      <td>Good</td>\n",
       "      <td>4.0</td>\n",
       "      <td>Good details</td>\n",
       "      <td>True</td>\n",
       "    </tr>\n",
       "    <tr>\n",
       "      <th>1</th>\n",
       "      <td>Accupressure Guide</td>\n",
       "      <td>It's a starting point</td>\n",
       "      <td>4.0</td>\n",
       "      <td>Basic, and it's a starting point.</td>\n",
       "      <td>True</td>\n",
       "    </tr>\n",
       "    <tr>\n",
       "      <th>2</th>\n",
       "      <td>Accupressure Guide</td>\n",
       "      <td>Five Stars</td>\n",
       "      <td>5.0</td>\n",
       "      <td>Very helpful.</td>\n",
       "      <td>True</td>\n",
       "    </tr>\n",
       "    <tr>\n",
       "      <th>3</th>\n",
       "      <td>Ankylosaurus Fights Back - Smithsonian's Prehi...</td>\n",
       "      <td>Great for informational reading, but limited i...</td>\n",
       "      <td>4.0</td>\n",
       "      <td>ANKYLOSAURUS FIGHTS BACK is part of the SMITHS...</td>\n",
       "      <td>False</td>\n",
       "    </tr>\n",
       "    <tr>\n",
       "      <th>4</th>\n",
       "      <td>Ankylosaurus Fights Back - Smithsonian's Prehi...</td>\n",
       "      <td>well worth the download</td>\n",
       "      <td>5.0</td>\n",
       "      <td>I played this app during the holiday to entert...</td>\n",
       "      <td>True</td>\n",
       "    </tr>\n",
       "  </tbody>\n",
       "</table>\n",
       "</div>"
      ],
      "text/plain": [
       "                                               title  \\\n",
       "0                                 Accupressure Guide   \n",
       "1                                 Accupressure Guide   \n",
       "2                                 Accupressure Guide   \n",
       "3  Ankylosaurus Fights Back - Smithsonian's Prehi...   \n",
       "4  Ankylosaurus Fights Back - Smithsonian's Prehi...   \n",
       "\n",
       "                                     review_headline  rating  \\\n",
       "0                                               Good     4.0   \n",
       "1                              It's a starting point     4.0   \n",
       "2                                         Five Stars     5.0   \n",
       "3  Great for informational reading, but limited i...     4.0   \n",
       "4                            well worth the download     5.0   \n",
       "\n",
       "                                                text  verified_purchase  \n",
       "0                                       Good details               True  \n",
       "1                  Basic, and it's a starting point.               True  \n",
       "2                                      Very helpful.               True  \n",
       "3  ANKYLOSAURUS FIGHTS BACK is part of the SMITHS...              False  \n",
       "4  I played this app during the holiday to entert...               True  "
      ]
     },
     "execution_count": 4,
     "metadata": {},
     "output_type": "execute_result"
    }
   ],
   "source": [
    "dataset_category = \"Software\" \n",
    "meta_ds = load_dataset(\"McAuley-Lab/Amazon-Reviews-2023\", f\"raw_meta_{dataset_category}\", split='full').to_pandas()[['parent_asin', 'title']]\n",
    "review_ds = load_dataset(\"McAuley-Lab/Amazon-Reviews-2023\", f\"raw_review_{dataset_category}\", split='full').to_pandas()[['parent_asin', 'title', 'rating', 'text', 'verified_purchase']]\n",
    "review_ds = review_ds.rename(columns={\"title\":\"review_headline\"})\n",
    "\n",
    "ds = meta_ds.merge(review_ds, on='parent_asin', how='inner').drop(columns=\"parent_asin\")\n",
    "\n",
    "ds.head()"
   ]
  },
  {
   "cell_type": "code",
   "execution_count": 5,
   "id": "b6980a29-bd73-41b8-aad5-000dd595d1e3",
   "metadata": {},
   "outputs": [
    {
     "data": {
      "text/html": [
       "<div>\n",
       "<style scoped>\n",
       "    .dataframe tbody tr th:only-of-type {\n",
       "        vertical-align: middle;\n",
       "    }\n",
       "\n",
       "    .dataframe tbody tr th {\n",
       "        vertical-align: top;\n",
       "    }\n",
       "\n",
       "    .dataframe thead th {\n",
       "        text-align: right;\n",
       "    }\n",
       "</style>\n",
       "<table border=\"1\" class=\"dataframe\">\n",
       "  <thead>\n",
       "    <tr style=\"text-align: right;\">\n",
       "      <th></th>\n",
       "      <th>product_title</th>\n",
       "      <th>review_headline</th>\n",
       "      <th>star_rating</th>\n",
       "      <th>review_body</th>\n",
       "      <th>verified_purchase</th>\n",
       "    </tr>\n",
       "  </thead>\n",
       "  <tbody>\n",
       "    <tr>\n",
       "      <th>3193863</th>\n",
       "      <td>Bingo</td>\n",
       "      <td>Like</td>\n",
       "      <td>4.0</td>\n",
       "      <td>I like this game. It is pretty fun. One thing ...</td>\n",
       "      <td>True</td>\n",
       "    </tr>\n",
       "    <tr>\n",
       "      <th>4601706</th>\n",
       "      <td>Spider</td>\n",
       "      <td>Love it</td>\n",
       "      <td>5.0</td>\n",
       "      <td>User friendly. Easy to get lost in and pass th...</td>\n",
       "      <td>True</td>\n",
       "    </tr>\n",
       "    <tr>\n",
       "      <th>4718500</th>\n",
       "      <td>Kitchen Scramble: Cooking Game</td>\n",
       "      <td>Don't get it</td>\n",
       "      <td>1.0</td>\n",
       "      <td>This app sucks!!! It takes your money and free...</td>\n",
       "      <td>True</td>\n",
       "    </tr>\n",
       "    <tr>\n",
       "      <th>3015975</th>\n",
       "      <td>Crossword : World's Biggest Cross Word - 100s ...</td>\n",
       "      <td>Fun games. Could be a bit more challenging and...</td>\n",
       "      <td>3.0</td>\n",
       "      <td>Fun games. Could be a bit more challenging and...</td>\n",
       "      <td>True</td>\n",
       "    </tr>\n",
       "    <tr>\n",
       "      <th>3191018</th>\n",
       "      <td>Kids Learning Games, Nursery Rhymes, Children ...</td>\n",
       "      <td>Not For Us</td>\n",
       "      <td>2.0</td>\n",
       "      <td>My two year old grandson already has quite a f...</td>\n",
       "      <td>True</td>\n",
       "    </tr>\n",
       "  </tbody>\n",
       "</table>\n",
       "</div>"
      ],
      "text/plain": [
       "                                             product_title  \\\n",
       "3193863                                              Bingo   \n",
       "4601706                                             Spider   \n",
       "4718500                     Kitchen Scramble: Cooking Game   \n",
       "3015975  Crossword : World's Biggest Cross Word - 100s ...   \n",
       "3191018  Kids Learning Games, Nursery Rhymes, Children ...   \n",
       "\n",
       "                                           review_headline  star_rating  \\\n",
       "3193863                                               Like          4.0   \n",
       "4601706                                            Love it          5.0   \n",
       "4718500                                       Don't get it          1.0   \n",
       "3015975  Fun games. Could be a bit more challenging and...          3.0   \n",
       "3191018                                         Not For Us          2.0   \n",
       "\n",
       "                                               review_body  verified_purchase  \n",
       "3193863  I like this game. It is pretty fun. One thing ...               True  \n",
       "4601706  User friendly. Easy to get lost in and pass th...               True  \n",
       "4718500  This app sucks!!! It takes your money and free...               True  \n",
       "3015975  Fun games. Could be a bit more challenging and...               True  \n",
       "3191018  My two year old grandson already has quite a f...               True  "
      ]
     },
     "execution_count": 5,
     "metadata": {},
     "output_type": "execute_result"
    }
   ],
   "source": [
    "ds = ds.rename(columns={\"rating\":\"star_rating\", \"title\":\"product_title\", \"text\":\"review_body\"})\n",
    "ds = ds[ds['verified_purchase'] & (ds['review_body'].map(len) > 100)].sample(10000)\n",
    "ds.head()"
   ]
  },
  {
   "cell_type": "code",
   "execution_count": 6,
   "id": "0129f55b-e158-4bad-bcb6-289708eb29ad",
   "metadata": {},
   "outputs": [
    {
     "data": {
      "application/vnd.jupyter.widget-view+json": {
       "model_id": "8f7277cb40cf4b40945b50a009b471bd",
       "version_major": 2,
       "version_minor": 0
      },
      "text/plain": [
       "Stringifying the column:   0%|          | 0/10000 [00:00<?, ? examples/s]"
      ]
     },
     "metadata": {},
     "output_type": "display_data"
    },
    {
     "data": {
      "application/vnd.jupyter.widget-view+json": {
       "model_id": "ddbfe8efadce494f982aa8db651e9af2",
       "version_major": 2,
       "version_minor": 0
      },
      "text/plain": [
       "Casting to class labels:   0%|          | 0/10000 [00:00<?, ? examples/s]"
      ]
     },
     "metadata": {},
     "output_type": "display_data"
    }
   ],
   "source": [
    "dataset = Dataset.from_pandas(ds)\n",
    "\n",
    "dataset = dataset.class_encode_column(\"star_rating\")\n",
    "\n",
    "dataset = dataset.train_test_split(test_size = 0.1, seed = 42, stratify_by_column = \"star_rating\")"
   ]
  },
  {
   "cell_type": "code",
   "execution_count": 7,
   "id": "bd0306bd-5eb0-4dca-8da1-9c49ce1aa244",
   "metadata": {},
   "outputs": [
    {
     "name": "stdout",
     "output_type": "stream",
     "text": [
      "{'product_title': 'Stick Nodes - Stickman Animator', 'review_headline': \"I don't like it💀\", 'star_rating': 0, 'review_body': \"I have no idea how to use the buttons It's not very good and I Don't even like how it works it's not good.\", 'verified_purchase': True, '__index_level_0__': 2351558}\n"
     ]
    }
   ],
   "source": [
    "train_dataset = dataset['train']\n",
    "test_dataset = dataset['test']\n",
    "\n",
    "print(train_dataset[73])"
   ]
  },
  {
   "cell_type": "code",
   "execution_count": 8,
   "id": "26c499a2-7884-495a-905f-1446cbb3e6c2",
   "metadata": {},
   "outputs": [
    {
     "name": "stderr",
     "output_type": "stream",
     "text": [
      "You are using the default legacy behaviour of the <class 'transformers.models.t5.tokenization_t5.T5Tokenizer'>. This is expected, and simply means that the `legacy` (previous) behavior will be used so nothing changes for you. If you want to use the new behaviour, set `legacy=False`. This should only be set if you understand what it means, and thoroughly read the reason why this was added as explained in https://github.com/huggingface/transformers/pull/24565\n"
     ]
    }
   ],
   "source": [
    "# pip install sentencepiece #install inside the virtual env\n",
    "\n",
    "MODEL_NAME = 't5-base'\n",
    "tokenizer = T5Tokenizer.from_pretrained(MODEL_NAME)"
   ]
  },
  {
   "cell_type": "markdown",
   "id": "54b82641-b54e-4b10-b3ae-8b49b71b6ec0",
   "metadata": {},
   "source": [
    "### Data Preprocessing, preparing it for the model."
   ]
  },
  {
   "cell_type": "code",
   "execution_count": 9,
   "id": "f5a94e1e-dfde-4a30-aeee-a700f7f0170e",
   "metadata": {},
   "outputs": [],
   "source": [
    "def preprocess_data(examples):\n",
    "    # examples['prompt'] = [f\"review: {example['product_title']}, {example['star_rating']} Stars!\" for example in examples]\n",
    "    # examples['response'] = [f\"{example['review_headline']} {example['review_body']}\" for example in examples]\n",
    "\n",
    "    examples['prompt']  = [f\"review: {title}, {stars} Stars!\" for title, stars in zip(examples['product_title'], examples['star_rating'])]    \n",
    "    examples['response'] = [f\"{headline} {body}\" for headline, body in zip(examples['review_headline'], examples['review_body'])]\n",
    "\n",
    "    inputs = tokenizer(examples['prompt'], padding='max_length', truncation=True, max_length=128)\n",
    "    targets = tokenizer(examples['response'], padding='max_length', truncation=True, max_length=128)\n",
    "\n",
    "    # Set -100 at the padding positions of target tokens\n",
    "    target_input_ids = []\n",
    "    for ids in targets['input_ids']:\n",
    "        target_input_ids.append([id if id != tokenizer.pad_token_id else -100 for id in ids])\n",
    "\n",
    "    inputs.update({'labels': target_input_ids})\n",
    "    return inputs"
   ]
  },
  {
   "cell_type": "code",
   "execution_count": 10,
   "id": "83ed74ab-c119-4392-9f52-4c478b210998",
   "metadata": {},
   "outputs": [
    {
     "data": {
      "application/vnd.jupyter.widget-view+json": {
       "model_id": "25e68ff6be674566950ffe027ccfb3dd",
       "version_major": 2,
       "version_minor": 0
      },
      "text/plain": [
       "Map:   0%|          | 0/9000 [00:00<?, ? examples/s]"
      ]
     },
     "metadata": {},
     "output_type": "display_data"
    },
    {
     "data": {
      "application/vnd.jupyter.widget-view+json": {
       "model_id": "b10b6aedaa1944e9a2aa3c3abb722a25",
       "version_major": 2,
       "version_minor": 0
      },
      "text/plain": [
       "Map:   0%|          | 0/1000 [00:00<?, ? examples/s]"
      ]
     },
     "metadata": {},
     "output_type": "display_data"
    }
   ],
   "source": [
    "train_dataset = train_dataset.map(preprocess_data, batched=True)\n",
    "test_dataset = test_dataset.map(preprocess_data, batched=True)\n",
    "\n",
    "data_collator = DataCollatorWithPadding(tokenizer=tokenizer)"
   ]
  },
  {
   "cell_type": "code",
   "execution_count": 11,
   "id": "9172e002-89e5-4414-bb38-5e7b6b7d5c2f",
   "metadata": {},
   "outputs": [],
   "source": [
    "model = T5ForConditionalGeneration.from_pretrained(MODEL_NAME)\n",
    "\n",
    "TRAINING_OUTPUT = \"../Models/t5_fine_tuned_reviews\"\n",
    "\n",
    "training_args = TrainingArguments(\n",
    "    output_dir = TRAINING_OUTPUT,\n",
    "    num_train_epochs = 3,\n",
    "    per_device_train_batch_size = 16,\n",
    "    per_device_eval_batch_size = 16,\n",
    "    save_strategy='epoch',\n",
    "    save_total_limit=1, \n",
    ")"
   ]
  },
  {
   "cell_type": "code",
   "execution_count": 12,
   "id": "b7582d60-4134-4415-8c87-b30005bb81c8",
   "metadata": {},
   "outputs": [],
   "source": [
    "trainer = Trainer(\n",
    "    model = model,\n",
    "    args = training_args,\n",
    "    train_dataset = train_dataset,\n",
    "    data_collator = data_collator\n",
    ")"
   ]
  },
  {
   "cell_type": "code",
   "execution_count": 13,
   "id": "e66e0e62-8f70-445c-aecc-0f04dd37c9bb",
   "metadata": {},
   "outputs": [],
   "source": [
    "# trainer.train()"
   ]
  },
  {
   "cell_type": "code",
   "execution_count": 14,
   "id": "e3a7906c-a4fd-40ef-b24e-9b9483f7f87d",
   "metadata": {},
   "outputs": [
    {
     "name": "stderr",
     "output_type": "stream",
     "text": [
      "Passing a tuple of `past_key_values` is deprecated and will be removed in Transformers v4.48.0. You should pass an instance of `EncoderDecoderCache` instead, e.g. `past_key_values=EncoderDecoderCache.from_legacy_cache(past_key_values)`.\n"
     ]
    },
    {
     "data": {
      "text/html": [
       "\n",
       "    <div>\n",
       "      \n",
       "      <progress value='1689' max='1689' style='width:300px; height:20px; vertical-align: middle;'></progress>\n",
       "      [1689/1689 8:43:10, Epoch 3/3]\n",
       "    </div>\n",
       "    <table border=\"1\" class=\"dataframe\">\n",
       "  <thead>\n",
       " <tr style=\"text-align: left;\">\n",
       "      <th>Step</th>\n",
       "      <th>Training Loss</th>\n",
       "    </tr>\n",
       "  </thead>\n",
       "  <tbody>\n",
       "    <tr>\n",
       "      <td>500</td>\n",
       "      <td>3.625300</td>\n",
       "    </tr>\n",
       "    <tr>\n",
       "      <td>1000</td>\n",
       "      <td>3.449800</td>\n",
       "    </tr>\n",
       "    <tr>\n",
       "      <td>1500</td>\n",
       "      <td>3.392400</td>\n",
       "    </tr>\n",
       "  </tbody>\n",
       "</table><p>"
      ],
      "text/plain": [
       "<IPython.core.display.HTML object>"
      ]
     },
     "metadata": {},
     "output_type": "display_data"
    },
    {
     "data": {
      "text/plain": [
       "TrainOutput(global_step=1689, training_loss=3.476291798783026, metrics={'train_runtime': 31410.8754, 'train_samples_per_second': 0.86, 'train_steps_per_second': 0.054, 'total_flos': 4110465761280000.0, 'train_loss': 3.476291798783026, 'epoch': 3.0})"
      ]
     },
     "execution_count": 14,
     "metadata": {},
     "output_type": "execute_result"
    }
   ],
   "source": [
    "import os\n",
    "\n",
    "# Find the latest checkpoint if exists\n",
    "last_checkpoint = None\n",
    "if os.path.isdir(TRAINING_OUTPUT):\n",
    "    checkpoints = [os.path.join(TRAINING_OUTPUT, d) for d in os.listdir(TRAINING_OUTPUT) if d.startswith(\"checkpoint\")]\n",
    "    if checkpoints:\n",
    "        last_checkpoint = max(checkpoints, key=os.path.getmtime)\n",
    "\n",
    "trainer.train(resume_from_checkpoint=last_checkpoint)"
   ]
  },
  {
   "cell_type": "code",
   "execution_count": null,
   "id": "724a0be7-7a45-4693-894a-298e2f9737af",
   "metadata": {},
   "outputs": [],
   "source": []
  }
 ],
 "metadata": {
  "kernelspec": {
   "display_name": "Python 3.10 (ML Env)",
   "language": "python",
   "name": "3.10env"
  },
  "language_info": {
   "codemirror_mode": {
    "name": "ipython",
    "version": 3
   },
   "file_extension": ".py",
   "mimetype": "text/x-python",
   "name": "python",
   "nbconvert_exporter": "python",
   "pygments_lexer": "ipython3",
   "version": "3.10.0"
  }
 },
 "nbformat": 4,
 "nbformat_minor": 5
}
