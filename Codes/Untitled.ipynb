{
 "cells": [
  {
   "cell_type": "code",
   "execution_count": 1,
   "id": "0958bfa9-ba5b-4bed-adf0-d2f649aed207",
   "metadata": {},
   "outputs": [],
   "source": [
    "import warnings\n",
    "warnings.filterwarnings('ignore')"
   ]
  },
  {
   "cell_type": "code",
   "execution_count": 2,
   "id": "2a1fc1c2-04e1-4abc-aae7-bedb296a64b6",
   "metadata": {},
   "outputs": [],
   "source": [
    "from transformers import pipeline"
   ]
  },
  {
   "cell_type": "code",
   "execution_count": null,
   "id": "57b03c24-98ac-4f4a-8f05-b85a25baa547",
   "metadata": {},
   "outputs": [],
   "source": []
  },
  {
   "cell_type": "code",
   "execution_count": 3,
   "id": "323bcd95-7eb5-440f-abbb-7e8a4e1e7596",
   "metadata": {},
   "outputs": [
    {
     "name": "stderr",
     "output_type": "stream",
     "text": [
      "No model was supplied, defaulted to distilbert-base-uncased-finetuned-sst-2-english and revision af0f99b (https://huggingface.co/distilbert-base-uncased-finetuned-sst-2-english).\n",
      "Using a pipeline without specifying a model name and revision in production is not recommended.\n"
     ]
    },
    {
     "name": "stdout",
     "output_type": "stream",
     "text": [
      "[{'label': 'POSITIVE', 'score': 0.9998774528503418}]\n",
      "[{'label': 'NEGATIVE', 'score': 0.999784529209137}]\n",
      "[{'label': 'POSITIVE', 'score': 0.7321880459785461}]\n",
      "[{'label': 'NEGATIVE', 'score': 0.999729573726654}]\n"
     ]
    }
   ],
   "source": [
    "classifier = pipeline(\"sentiment-analysis\")\n",
    "\n",
    "foodReviewP = classifier(\"This food is awesome!\")\n",
    "foodReviewN = classifier(\"This food is not tasty!\")\n",
    "serviceReviewP = classifier(\"Their customer service behave was polite enough!\")\n",
    "serviceReviewN = classifier(\"Their customer service behave was not polite enough!\")\n",
    "print(foodReviewP)\n",
    "print(foodReviewN)\n",
    "print(serviceReviewP)\n",
    "print(serviceReviewN)"
   ]
  },
  {
   "cell_type": "code",
   "execution_count": 4,
   "id": "d68634b8-b562-405b-8032-2e25db7d6532",
   "metadata": {},
   "outputs": [
    {
     "name": "stdout",
     "output_type": "stream",
     "text": [
      "[{'label': '5 stars', 'score': 0.9036389589309692}]\n",
      "[{'label': '1 star', 'score': 0.5653032660484314}]\n",
      "[{'label': '4 stars', 'score': 0.44744133949279785}]\n",
      "[{'label': '2 stars', 'score': 0.4090549349784851}]\n"
     ]
    }
   ],
   "source": [
    "classifier = pipeline(\"sentiment-analysis\", model=\"nlptown/bert-base-multilingual-uncased-sentiment\")\n",
    "\n",
    "foodReviewP = classifier(\"This food is awesome!\")\n",
    "foodReviewN = classifier(\"This food is not tasty!\")\n",
    "serviceReviewP = classifier(\"Their customer service behave was polite enough!\")\n",
    "serviceReviewN = classifier(\"Their customer service behave was not polite enough!\")\n",
    "\n",
    "print(foodReviewP)\n",
    "print(foodReviewN)\n",
    "print(serviceReviewP)\n",
    "print(serviceReviewN)"
   ]
  },
  {
   "cell_type": "code",
   "execution_count": 5,
   "id": "b598af8d-2bb8-40d2-86f6-9726a0eeac7a",
   "metadata": {},
   "outputs": [
    {
     "name": "stderr",
     "output_type": "stream",
     "text": [
      "Setting `pad_token_id` to `eos_token_id`:50256 for open-end generation.\n"
     ]
    },
    {
     "name": "stdout",
     "output_type": "stream",
     "text": [
      "[{'generated_text': 'Once upon a time they were supposed to exist—that of their creators, that of humanity—but now they would be dead. The question of who has the right to rule over this world was of paramount importance. Who would take it upon themselves to'}, {'generated_text': \"Once upon a time of need, you'll see some good guys fight with other good guys fighting with you at some point (in fact, you'll often see them together in a sparring match from time to time).\\n\\nThis is only possible\"}, {'generated_text': 'Once upon a time, my soul would have been taken by the dark forces of darkness. Yet now it has become a peaceful, even peaceful soul.\\n\\nIt is only a matter of time before I am forced to face up to the truth.'}]\n",
      "\n",
      "\n",
      "3\n",
      "Once upon a time they were supposed to exist—that of their creators, that of humanity—but now they would be dead. The question of who has the right to rule over this world was of paramount importance. Who would take it upon themselves to\n",
      "\n",
      "\n",
      "Once upon a time of need, you'll see some good guys fight with other good guys fighting with you at some point (in fact, you'll often see them together in a sparring match from time to time).\n",
      "\n",
      "This is only possible\n",
      "\n",
      "\n",
      "Once upon a time, my soul would have been taken by the dark forces of darkness. Yet now it has become a peaceful, even peaceful soul.\n",
      "\n",
      "It is only a matter of time before I am forced to face up to the truth.\n",
      "\n",
      "\n"
     ]
    }
   ],
   "source": [
    "generator = pipeline(\"text-generation\", model=\"gpt2\")\n",
    "\n",
    "story = generator(\"Once upon a time\", max_length=50, num_return_sequences=3)\n",
    "\n",
    "# Print the output\n",
    "print(story)\n",
    "print('\\n')\n",
    "print(len(story))\n",
    "for i in range(len(story)):\n",
    "    print(story[i][\"generated_text\"])\n",
    "    print('\\n')"
   ]
  },
  {
   "cell_type": "code",
   "execution_count": null,
   "id": "2dfa4582-0795-43a3-b3ad-02fc3cec8a94",
   "metadata": {},
   "outputs": [],
   "source": []
  }
 ],
 "metadata": {
  "kernelspec": {
   "display_name": "Python 3 (ipykernel)",
   "language": "python",
   "name": "python3"
  },
  "language_info": {
   "codemirror_mode": {
    "name": "ipython",
    "version": 3
   },
   "file_extension": ".py",
   "mimetype": "text/x-python",
   "name": "python",
   "nbconvert_exporter": "python",
   "pygments_lexer": "ipython3",
   "version": "3.12.7"
  }
 },
 "nbformat": 4,
 "nbformat_minor": 5
}
