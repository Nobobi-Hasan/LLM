{
 "cells": [
  {
   "cell_type": "code",
   "execution_count": null,
   "id": "94e5749e-82a4-4dcd-9c36-680f8e1d2861",
   "metadata": {},
   "outputs": [],
   "source": [
    "import warnings\n",
    "warnings.filterwarnings('ignore')\n",
    "# !pip install datasets\n",
    "# !pip install sentence_transformers\n",
    "!pip uninstall keras\n",
    "!pip install keras==2.14.0\n",
    "!pip install tf-keras"
   ]
  },
  {
   "cell_type": "code",
   "execution_count": null,
   "id": "9b26fdc8-0dda-43db-a775-b4b2b8a2a382",
   "metadata": {},
   "outputs": [],
   "source": [
    "from datasets import load_dataset\n",
    "import pandas as pd\n",
    "from sentence_transformers import SentenceTransformer, util"
   ]
  },
  {
   "cell_type": "code",
   "execution_count": null,
   "id": "b0b0daa2-e871-438f-9719-2250bd8bceff",
   "metadata": {},
   "outputs": [],
   "source": [
    "dataset = load_dataset(\"multi_news\", split=\"test\", trust_remote_code=True)\n",
    "df = dataset.to_pandas().sample(2000, random_state=42)"
   ]
  },
  {
   "cell_type": "code",
   "execution_count": null,
   "id": "ee1fcd4b-55db-4dc0-b411-d2e9251b1cff",
   "metadata": {},
   "outputs": [],
   "source": [
    "df.head()"
   ]
  },
  {
   "cell_type": "code",
   "execution_count": null,
   "id": "d7aa8b31-9d51-4779-b0f8-5a5081179fb1",
   "metadata": {},
   "outputs": [],
   "source": [
    "df.iloc[0]"
   ]
  },
  {
   "cell_type": "code",
   "execution_count": null,
   "id": "ebfc4c7c-c4a1-4a6c-9eeb-12ea698a077e",
   "metadata": {},
   "outputs": [],
   "source": []
  }
 ],
 "metadata": {
  "kernelspec": {
   "display_name": "Python 3 (ipykernel)",
   "language": "python",
   "name": "python3"
  },
  "language_info": {
   "codemirror_mode": {
    "name": "ipython",
    "version": 3
   },
   "file_extension": ".py",
   "mimetype": "text/x-python",
   "name": "python",
   "nbconvert_exporter": "python",
   "pygments_lexer": "ipython3",
   "version": "3.12.7"
  }
 },
 "nbformat": 4,
 "nbformat_minor": 5
}
